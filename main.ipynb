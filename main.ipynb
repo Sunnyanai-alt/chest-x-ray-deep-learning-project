{
  "cells": [
    {
      "cell_type": "markdown",
      "source": [
        "# Pipeline Architecture\n",
        "\n",
        "1. **Dataset Structure & Multi-Class Setup**  \n",
        "   The dataset is organized into multiple class subfolders (e.g., NORMAL, PNEUMONIA) under a main `dataset` folder, where each subfolder contains images for that particular class.\n",
        "\n",
        "2. **GAN-Based Data Augmentation for Imbalance Handling**  \n",
        "   For classes with fewer samples, a GAN is trained to generate synthetic images. This augmentation process is applied on a per-class basis to balance the training dataset.\n",
        "\n",
        "3. **Generator Architecture in the GAN**  \n",
        "   - **Input:** A latent vector (typically of dimension 100).  \n",
        "   - **Structure:**  \n",
        "     - A fully connected (`Linear`) layer projects and reshapes the latent vector into a 4D tensor.  \n",
        "     - A series of upsampling blocks are applied; each block consists of an Upsample layer, a 2D convolution, batch normalization, and LeakyReLU activation.  \n",
        "     - The final convolution outputs a 3-channel image and applies a Sigmoid activation to produce pixel values scaled between 0 and 1.\n",
        "   - **Purpose:** To generate realistic synthetic images matching the input resolution for each class.\n",
        "\n",
        "4. **Discriminator Architecture in the GAN**  \n",
        "   - **Input:** Real or synthetic images.  \n",
        "   - **Structure:**  \n",
        "     - Multiple convolutional blocks use downsampling (with stride 2) along with LeakyReLU activations and dropout for regularization.  \n",
        "     - The feature maps are then flattened and passed through a linear layer to output a single probability via a Sigmoid activation function.\n",
        "   - **Purpose:** To distinguish between real and synthetic images, providing feedback to the generator during training.\n",
        "\n",
        "5. **Training Strategy for the GAN**  \n",
        "   - Uses Binary Cross-Entropy Loss for both generator and discriminator training.  \n",
        "   - The discriminator receives smoothed labels (e.g., 0.9 for real images) to improve stability.  \n",
        "   - Both networks are updated iteratively using the Adam optimizer with a specified learning rate and momentum parameters.\n",
        "\n",
        "6. **Synthetic Data Generation & Integration**  \n",
        "   - After training, the generator is used to create synthetic images equal to the difference between the maximum number of samples in any class and the current samples for the under-represented classes.  \n",
        "   - These synthetic images are saved and then merged with the real training images to form an augmented balanced dataset.\n",
        "\n",
        "7. **Classification Model – VGG16Enhanced**  \n",
        "   - **Base:** Utilizes a pretrained VGG16 model as a fixed feature extractor (all convolutional features are frozen).  \n",
        "   - **Enhancement:** Global Average Pooling is applied to reduce feature maps, followed by a custom classifier composed of several fully connected layers.\n",
        "   \n",
        "8. **Custom Classifier Details**  \n",
        "   - **Layer Sequence:**  \n",
        "     - The flattened output from global pooling is passed through a series of Linear layers (512 → 256 → 128 → 256 → 64 → `num_classes`) with ReLU activations and Dropout layers for regularization.  \n",
        "     - This design allows the model to learn complex decision boundaries while mitigating overfitting.\n",
        "   \n",
        "9. **Training & Optimization of the Classifier**  \n",
        "   - Uses CrossEntropyLoss with the Adam optimizer.  \n",
        "   - A learning rate scheduler adapts the learning rate based on the validation loss, and the model with the best validation performance is saved for testing.\n",
        "   \n",
        "10. **Evaluation & Reporting**  \n",
        "    - Performance is measured using accuracy, precision, recall, F1-score, and confusion matrices.  \n",
        "    - The distribution of both real and synthetic data is visualized (e.g., using pie charts), and training/validation accuracy and loss curves are plotted to assess convergence.\n",
        "\n"
      ],
      "metadata": {
        "id": "lYl6kOgVuV35"
      },
      "id": "lYl6kOgVuV35"
    },
    {
      "cell_type": "code",
      "source": [
        "!git clone https://github.com/Sunnyanai-alt/chest-x-ray-deep-learning-project.git"
      ],
      "metadata": {
        "colab": {
          "base_uri": "https://localhost:8080/"
        },
        "id": "B_fQGO_Cr8BW",
        "outputId": "ef1cada3-8231-4ed8-c196-fc3268e7ab5c"
      },
      "id": "B_fQGO_Cr8BW",
      "execution_count": 1,
      "outputs": [
        {
          "output_type": "stream",
          "name": "stdout",
          "text": [
            "Cloning into 'chest-x-ray-deep-learning-project'...\n",
            "remote: Enumerating objects: 5842, done.\u001b[K\n",
            "remote: Total 5842 (delta 0), reused 0 (delta 0), pack-reused 5842 (from 2)\u001b[K\n",
            "Receiving objects: 100% (5842/5842), 1.13 GiB | 3.71 MiB/s, done.\n",
            "Updating files: 100% (5858/5858), done.\n"
          ]
        }
      ]
    },
    {
      "cell_type": "code",
      "source": [
        "data_path = \"/content/chest-x-ray-deep-learning-project/dataset\""
      ],
      "metadata": {
        "id": "T3lcA8PLr_6T"
      },
      "id": "T3lcA8PLr_6T",
      "execution_count": 2,
      "outputs": []
    },
    {
      "cell_type": "markdown",
      "id": "f5741fb3",
      "metadata": {
        "id": "f5741fb3"
      },
      "source": [
        "### Libraries Import"
      ]
    },
    {
      "cell_type": "code",
      "execution_count": 3,
      "id": "fef8793e",
      "metadata": {
        "id": "fef8793e"
      },
      "outputs": [],
      "source": [
        "import os\n",
        "from PIL import Image\n",
        "from tqdm import tqdm\n",
        "\n",
        "import torch\n",
        "import torch.nn as nn\n",
        "import torch.optim as optim\n",
        "from torchvision import datasets, transforms, models\n",
        "from torch.utils.data import DataLoader, Dataset, ConcatDataset\n",
        "import numpy as np\n",
        "import matplotlib.pyplot as plt\n",
        "from collections import Counter\n",
        "from sklearn.metrics import classification_report, confusion_matrix, accuracy_score, precision_score, recall_score, f1_score\n",
        "\n",
        "# Device config\n",
        "device = torch.device(\"cuda\" if torch.cuda.is_available() else \"cpu\")"
      ]
    },
    {
      "cell_type": "markdown",
      "id": "0c0ea918",
      "metadata": {
        "id": "0c0ea918"
      },
      "source": [
        "### Augmentation using GAN (handle data imbalance)"
      ]
    },
    {
      "cell_type": "code",
      "execution_count": 4,
      "id": "ce821a75",
      "metadata": {
        "colab": {
          "base_uri": "https://localhost:8080/"
        },
        "id": "ce821a75",
        "outputId": "2ac3cbd6-fb38-4899-9837-281134d98651"
      },
      "outputs": [
        {
          "output_type": "stream",
          "name": "stdout",
          "text": [
            "Original counts: {'NORMAL': 1341, 'PNEUMONIA': 3875}\n",
            "[NORMAL] needs 2534 synthetic images → training GAN…\n",
            "Epoch 1/50 | D_loss: 1.1962 | G_loss: 1.4374\n",
            "Epoch 2/50 | D_loss: 1.3193 | G_loss: 1.0456\n",
            "Epoch 3/50 | D_loss: 1.3243 | G_loss: 0.9153\n",
            "Epoch 4/50 | D_loss: 1.3517 | G_loss: 0.8639\n",
            "Epoch 5/50 | D_loss: 1.3572 | G_loss: 0.8540\n",
            "Epoch 6/50 | D_loss: 1.3563 | G_loss: 0.8723\n",
            "Epoch 7/50 | D_loss: 1.3505 | G_loss: 0.8588\n",
            "Epoch 8/50 | D_loss: 1.3942 | G_loss: 0.9131\n",
            "Epoch 9/50 | D_loss: 1.3378 | G_loss: 0.8677\n",
            "Epoch 10/50 | D_loss: 1.3241 | G_loss: 0.8659\n",
            "Epoch 11/50 | D_loss: 1.3848 | G_loss: 0.9485\n",
            "Epoch 12/50 | D_loss: 1.3437 | G_loss: 0.8730\n",
            "Epoch 13/50 | D_loss: 1.3307 | G_loss: 0.8775\n",
            "Epoch 14/50 | D_loss: 1.3428 | G_loss: 0.8764\n",
            "Epoch 15/50 | D_loss: 1.3526 | G_loss: 0.8990\n",
            "Epoch 16/50 | D_loss: 1.3451 | G_loss: 0.8512\n",
            "Epoch 17/50 | D_loss: 1.3520 | G_loss: 0.8496\n",
            "Epoch 18/50 | D_loss: 1.3532 | G_loss: 0.8839\n",
            "Epoch 19/50 | D_loss: 1.3566 | G_loss: 0.8765\n",
            "Epoch 20/50 | D_loss: 1.3529 | G_loss: 0.8557\n",
            "Epoch 21/50 | D_loss: 1.3418 | G_loss: 0.8698\n",
            "Epoch 22/50 | D_loss: 1.3645 | G_loss: 0.8886\n",
            "Epoch 23/50 | D_loss: 1.3479 | G_loss: 0.8783\n",
            "Epoch 24/50 | D_loss: 1.3371 | G_loss: 0.8890\n",
            "Epoch 25/50 | D_loss: 1.3305 | G_loss: 0.9001\n",
            "Epoch 26/50 | D_loss: 1.3162 | G_loss: 0.9245\n",
            "Epoch 27/50 | D_loss: 1.3749 | G_loss: 0.9240\n",
            "Epoch 28/50 | D_loss: 1.3089 | G_loss: 0.9126\n",
            "Epoch 29/50 | D_loss: 1.3376 | G_loss: 0.8879\n",
            "Epoch 30/50 | D_loss: 1.3610 | G_loss: 0.8877\n",
            "Epoch 31/50 | D_loss: 1.3566 | G_loss: 0.8596\n",
            "Epoch 32/50 | D_loss: 1.3609 | G_loss: 0.8780\n",
            "Epoch 33/50 | D_loss: 1.3548 | G_loss: 0.9157\n",
            "Epoch 34/50 | D_loss: 1.3859 | G_loss: 1.0542\n",
            "Epoch 35/50 | D_loss: 1.3716 | G_loss: 0.9017\n",
            "Epoch 36/50 | D_loss: 1.3582 | G_loss: 0.8837\n",
            "Epoch 37/50 | D_loss: 1.3433 | G_loss: 0.8721\n",
            "Epoch 38/50 | D_loss: 1.3336 | G_loss: 0.9055\n",
            "Epoch 39/50 | D_loss: 1.3445 | G_loss: 0.9383\n",
            "Epoch 40/50 | D_loss: 1.3483 | G_loss: 0.9745\n",
            "Epoch 41/50 | D_loss: 1.3527 | G_loss: 0.9186\n",
            "Epoch 42/50 | D_loss: 1.3385 | G_loss: 0.8778\n",
            "Epoch 43/50 | D_loss: 1.3345 | G_loss: 0.9007\n",
            "Epoch 44/50 | D_loss: 1.3227 | G_loss: 0.9057\n",
            "Epoch 45/50 | D_loss: 1.3244 | G_loss: 0.9112\n",
            "Epoch 46/50 | D_loss: 1.3245 | G_loss: 0.9147\n",
            "Epoch 47/50 | D_loss: 1.3300 | G_loss: 0.9117\n",
            "Epoch 48/50 | D_loss: 1.3371 | G_loss: 0.9439\n",
            "Epoch 49/50 | D_loss: 1.3474 | G_loss: 0.9257\n",
            "Epoch 50/50 | D_loss: 1.3284 | G_loss: 0.9374\n"
          ]
        },
        {
          "output_type": "stream",
          "name": "stderr",
          "text": [
            "Generating [NORMAL]: 100%|██████████| 2534/2534 [01:30<00:00, 28.15it/s]"
          ]
        },
        {
          "output_type": "stream",
          "name": "stdout",
          "text": [
            "[PNEUMONIA] has 3875, no synthetic needed.\n",
            "Synthetic counts: {'NORMAL': 2534, 'PNEUMONIA': 0}\n",
            "Total counts after augmentation: {'NORMAL': 3875, 'PNEUMONIA': 3875}\n"
          ]
        },
        {
          "output_type": "stream",
          "name": "stderr",
          "text": [
            "\n"
          ]
        }
      ],
      "source": [
        "class SingleClassDataset(Dataset):\n",
        "    def __init__(self, folder, transform=None):\n",
        "        self.paths = [\n",
        "            os.path.join(folder, f)\n",
        "            for f in os.listdir(folder)\n",
        "            if f.lower().endswith(('.png','jpg','jpeg'))\n",
        "        ]\n",
        "        self.transform = transform\n",
        "\n",
        "    def __len__(self):\n",
        "        return len(self.paths)\n",
        "\n",
        "    def __getitem__(self, idx):\n",
        "        img = Image.open(self.paths[idx]).convert('RGB')\n",
        "        if self.transform:\n",
        "            img = self.transform(img)\n",
        "        return img\n",
        "\n",
        "class Generator(nn.Module):\n",
        "    def __init__(self, latent_dim=100):\n",
        "        super().__init__()\n",
        "        self.init_size = 14\n",
        "        self.l1 = nn.Sequential(\n",
        "            nn.Linear(latent_dim, 256 * self.init_size * self.init_size),\n",
        "            nn.LeakyReLU(0.2, inplace=True)\n",
        "        )\n",
        "        self.conv_blocks = nn.Sequential(\n",
        "            nn.Upsample(scale_factor=2),\n",
        "            nn.Conv2d(256, 256, 3, padding=1), nn.BatchNorm2d(256), nn.LeakyReLU(0.2, True),\n",
        "            nn.Upsample(scale_factor=2),\n",
        "            nn.Conv2d(256, 128, 3, padding=1), nn.BatchNorm2d(128), nn.LeakyReLU(0.2, True),\n",
        "            nn.Upsample(scale_factor=2),\n",
        "            nn.Conv2d(128,  64, 3, padding=1), nn.BatchNorm2d(64),  nn.LeakyReLU(0.2, True),\n",
        "            nn.Upsample(scale_factor=2),\n",
        "            nn.Conv2d(64,   32, 3, padding=1), nn.BatchNorm2d(32),  nn.LeakyReLU(0.2, True),\n",
        "            nn.Conv2d(32,    3, 3, padding=1), nn.Sigmoid()  # [0,1] output\n",
        "        )\n",
        "\n",
        "    def forward(self, z):\n",
        "        out = self.l1(z).view(z.size(0), 256, self.init_size, self.init_size)\n",
        "        return self.conv_blocks(out)\n",
        "\n",
        "class Discriminator(nn.Module):\n",
        "    def __init__(self, img_size=224):\n",
        "        super().__init__()\n",
        "        def cb(in_c, out_c):\n",
        "            return [\n",
        "                nn.Conv2d(in_c, out_c, 3, stride=2, padding=1),\n",
        "                nn.LeakyReLU(0.2, True),\n",
        "                nn.Dropout(0.4)\n",
        "            ]\n",
        "        self.model = nn.Sequential(\n",
        "            *cb(3,  64),   # 224→112\n",
        "            *cb(64, 128),  # 112→56\n",
        "            *cb(128,256),  # 56→28\n",
        "            nn.Flatten(),\n",
        "            nn.Linear(256*(img_size//8)*(img_size//8), 1),\n",
        "            nn.Sigmoid()\n",
        "        )\n",
        "\n",
        "    def forward(self, img):\n",
        "        return self.model(img)\n",
        "\n",
        "def train_dcgan(gen, disc, loader, latent_dim, device,\n",
        "                epochs=200, lr=2e-4, beta1=0.5):\n",
        "    criterion = nn.BCELoss()\n",
        "    opt_d = optim.Adam(disc.parameters(), lr=lr, betas=(beta1,0.999))\n",
        "    opt_g = optim.Adam(gen.parameters(),  lr=lr, betas=(beta1,0.999))\n",
        "    gen.to(device); disc.to(device)\n",
        "\n",
        "    for epoch in range(1, epochs+1):\n",
        "        d_loss_acc, g_loss_acc = 0, 0\n",
        "        for real in loader:  # num_workers=0 to avoid Windows crashes\n",
        "            bs = real.size(0)\n",
        "            real = real.to(device)\n",
        "            # smoothed real labels=0.9, fake=0\n",
        "            real_lbl = torch.full((bs,1), 0.9, device=device)\n",
        "            fake_lbl = torch.zeros((bs,1), device=device)\n",
        "\n",
        "            # Discriminator step\n",
        "            disc.zero_grad()\n",
        "            out_real = disc(real)\n",
        "            d_real = criterion(out_real, real_lbl)\n",
        "            z = torch.randn(bs, latent_dim, device=device)\n",
        "            fake = gen(z)\n",
        "            out_fake = disc(fake.detach())\n",
        "            d_fake = criterion(out_fake, fake_lbl)\n",
        "            (d_real + d_fake).backward()\n",
        "            opt_d.step()\n",
        "\n",
        "            # Generator step\n",
        "            gen.zero_grad()\n",
        "            valid_lbl = torch.ones((bs,1), device=device)\n",
        "            out = disc(fake)\n",
        "            g_loss = criterion(out, valid_lbl)\n",
        "            g_loss.backward()\n",
        "            opt_g.step()\n",
        "\n",
        "            d_loss_acc += (d_real + d_fake).item()\n",
        "            g_loss_acc += g_loss.item()\n",
        "\n",
        "        print(f\"Epoch {epoch}/{epochs} | D_loss: {d_loss_acc/len(loader):.4f} | G_loss: {g_loss_acc/len(loader):.4f}\")\n",
        "\n",
        "    return gen\n",
        "\n",
        "\n",
        "data_root      = \"/content/chest-x-ray-deep-learning-project/dataset/train\"\n",
        "synthetic_root = \"synthetic\"\n",
        "os.makedirs(synthetic_root, exist_ok=True)\n",
        "device = torch.device(\"cuda\" if torch.cuda.is_available() else \"cpu\")\n",
        "\n",
        "classes = [d for d in os.listdir(data_root) if os.path.isdir(os.path.join(data_root,d))]\n",
        "orig_counts = {}\n",
        "for cls in classes:\n",
        "    folder = os.path.join(data_root, cls)\n",
        "    imgs = [f for f in os.listdir(folder) if f.lower().endswith(('.png','jpg','jpeg'))]\n",
        "    orig_counts[cls] = len(imgs)\n",
        "max_count = max(orig_counts.values())\n",
        "print(\"Original counts:\", orig_counts)\n",
        "\n",
        "gan_transform = transforms.Compose([\n",
        "    transforms.Resize((224,224)),\n",
        "    transforms.ToTensor()\n",
        "])\n",
        "latent_dim = 100\n",
        "epochs     = 50\n",
        "batch_size = 64\n",
        "\n",
        "synthetic_counts = {}\n",
        "for cls, cnt in orig_counts.items():\n",
        "    need = max_count - cnt\n",
        "    synthetic_counts[cls] = 0\n",
        "    if need <= 0:\n",
        "        print(f\"[{cls}] has {cnt}, no synthetic needed.\")\n",
        "        continue\n",
        "\n",
        "    print(f\"[{cls}] needs {need} synthetic images → training GAN…\")\n",
        "    # prepare data loader\n",
        "    ds     = SingleClassDataset(os.path.join(data_root,cls), transform=gan_transform)\n",
        "    loader = DataLoader(ds, batch_size=batch_size, shuffle=True, num_workers=0)\n",
        "\n",
        "    # build & train\n",
        "    gen  = Generator(latent_dim).to(device)\n",
        "    disc = Discriminator().to(device)\n",
        "    gen  = train_dcgan(gen, disc, loader, latent_dim, device,\n",
        "                        epochs=epochs)\n",
        "\n",
        "    # generate & save\n",
        "    out_dir = os.path.join(synthetic_root, cls)\n",
        "    os.makedirs(out_dir, exist_ok=True)\n",
        "    for i in tqdm(range(need), desc=f\"Generating [{cls}]\"):\n",
        "        z = torch.randn(1, latent_dim, device=device)\n",
        "        with torch.no_grad():\n",
        "            fake = gen(z).cpu().squeeze(0)\n",
        "        pil = transforms.ToPILImage()(fake)\n",
        "        pil.save(os.path.join(out_dir, f\"synthetic_{i}.png\"))\n",
        "        synthetic_counts[cls] += 1\n",
        "\n",
        "# 4c) Report final counts\n",
        "total_counts = {cls: orig_counts[cls] + synthetic_counts.get(cls,0) for cls in classes}\n",
        "print(\"Synthetic counts:\", synthetic_counts)\n",
        "print(\"Total counts after augmentation:\", total_counts)"
      ]
    },
    {
      "cell_type": "code",
      "execution_count": 5,
      "id": "9a6e10dd",
      "metadata": {
        "id": "9a6e10dd"
      },
      "outputs": [],
      "source": [
        "# Hyperparameters\n",
        "batch_size = 64\n",
        "num_epochs = 30\n",
        "lr = 1e-3\n",
        "num_classes = 2\n",
        "\n",
        "# Data Transforms\n",
        "basic_transform = transforms.Compose([\n",
        "    transforms.Resize((224, 224)),\n",
        "    transforms.ToTensor(),\n",
        "    transforms.Normalize(mean=[0.485, 0.456, 0.406],\n",
        "                         std=[0.229, 0.224, 0.225])\n",
        "])\n",
        "\n",
        "# Dataset loading\n",
        "real_train_ds = datasets.ImageFolder(\"/content/chest-x-ray-deep-learning-project/dataset/train\", transform=basic_transform)\n",
        "synthetic_ds = datasets.ImageFolder(\"/content/synthetic\", transform=basic_transform)\n",
        "synthetic_ds.classes = real_train_ds.classes\n",
        "synthetic_ds.class_to_idx = real_train_ds.class_to_idx\n",
        "\n",
        "train_ds = ConcatDataset([real_train_ds, synthetic_ds])\n",
        "val_ds = datasets.ImageFolder(\"/content/chest-x-ray-deep-learning-project/dataset/val\", transform=basic_transform)\n",
        "test_ds = datasets.ImageFolder(\"/content/chest-x-ray-deep-learning-project/dataset/test\", transform=basic_transform)\n",
        "\n",
        "train_loader = DataLoader(train_ds, batch_size=batch_size, shuffle=True)\n",
        "val_loader = DataLoader(val_ds, batch_size=batch_size, shuffle=False)\n",
        "test_loader = DataLoader(test_ds, batch_size=batch_size, shuffle=False)"
      ]
    },
    {
      "cell_type": "code",
      "execution_count": 6,
      "id": "47ab0fdc",
      "metadata": {
        "colab": {
          "base_uri": "https://localhost:8080/",
          "height": 323
        },
        "id": "47ab0fdc",
        "outputId": "061ba7be-a3b9-4eef-aeae-12e824e338cd"
      },
      "outputs": [
        {
          "output_type": "display_data",
          "data": {
            "text/plain": [
              "<Figure size 1400x600 with 2 Axes>"
            ],
            "image/png": "[encoded data removed]"
          },
          "metadata": {}
        }
      ],
      "source": [
        "# Count real training data\n",
        "real_counts = Counter([real_train_ds.targets[i] for i in range(len(real_train_ds))])\n",
        "real_labels = [real_train_ds.classes[i] for i in real_counts.keys()]\n",
        "real_sizes = list(real_counts.values())\n",
        "\n",
        "# Count combined (real + synthetic) data\n",
        "combined_targets = [real_train_ds.targets[i] for i in range(len(real_train_ds))] + \\\n",
        "                   [synthetic_ds.targets[i] for i in range(len(synthetic_ds))]\n",
        "combined_counts = Counter(combined_targets)\n",
        "combined_labels = [real_train_ds.classes[i] for i in combined_counts.keys()]\n",
        "combined_sizes = list(combined_counts.values())\n",
        "\n",
        "# --- Plot ---\n",
        "fig, axes = plt.subplots(1, 2, figsize=(14, 6))\n",
        "\n",
        "# Real data pie\n",
        "axes[0].pie(real_sizes, labels=real_labels, autopct='%1.1f%%', startangle=140, colors=['#66b3ff','#ff9999'])\n",
        "axes[0].set_title('Training Data Distribution (Real Only)', fontsize=14)\n",
        "\n",
        "# Combined data pie\n",
        "axes[1].pie(combined_sizes, labels=combined_labels, autopct='%1.1f%%', startangle=140, colors=['#99ff99','#ffcc99'])\n",
        "axes[1].set_title('Training Data Distribution (Real + Synthetic)', fontsize=14)\n",
        "\n",
        "plt.tight_layout()\n",
        "plt.show()"
      ]
    },
    {
      "cell_type": "markdown",
      "id": "53c35cb7",
      "metadata": {
        "id": "53c35cb7"
      },
      "source": [
        "### VGG and Neural Network"
      ]
    },
    {
      "cell_type": "code",
      "execution_count": 7,
      "id": "dafb212a",
      "metadata": {
        "id": "dafb212a"
      },
      "outputs": [],
      "source": [
        "# Custom Model\n",
        "class VGG16Enhanced(nn.Module):\n",
        "    def __init__(self, num_classes):\n",
        "        super(VGG16Enhanced, self).__init__()\n",
        "        base_model = models.vgg16(pretrained=True)\n",
        "        for param in base_model.features.parameters():\n",
        "            param.requires_grad = False\n",
        "\n",
        "        self.features = base_model.features\n",
        "        self.gap = nn.AdaptiveAvgPool2d((1, 1))  # Global Average Pooling\n",
        "\n",
        "        self.classifier = nn.Sequential(\n",
        "            nn.Flatten(),\n",
        "            nn.Linear(512, 256),\n",
        "            nn.ReLU(),\n",
        "            nn.Dropout(0.3),\n",
        "            nn.Linear(256, 128),\n",
        "            nn.ReLU(),\n",
        "            nn.Dropout(0.3),\n",
        "            nn.Linear(128, 256),\n",
        "            nn.ReLU(),\n",
        "            nn.Dropout(0.3),\n",
        "            nn.Linear(256, 64),\n",
        "            nn.ReLU(),\n",
        "            nn.Dropout(0.25),\n",
        "            nn.Linear(64, num_classes)\n",
        "        )\n",
        "\n",
        "    def forward(self, x):\n",
        "        x = self.features(x)\n",
        "        x = self.gap(x)\n",
        "        x = self.classifier(x)\n",
        "        return x"
      ]
    },
    {
      "cell_type": "code",
      "execution_count": 8,
      "id": "09c91b62",
      "metadata": {
        "colab": {
          "base_uri": "https://localhost:8080/"
        },
        "id": "09c91b62",
        "outputId": "692c5a1e-3a1b-455c-b919-6004b77f8af1"
      },
      "outputs": [
        {
          "output_type": "stream",
          "name": "stderr",
          "text": [
            "/usr/local/lib/python3.11/dist-packages/torchvision/models/_utils.py:208: UserWarning: The parameter 'pretrained' is deprecated since 0.13 and may be removed in the future, please use 'weights' instead.\n",
            "  warnings.warn(\n",
            "/usr/local/lib/python3.11/dist-packages/torchvision/models/_utils.py:223: UserWarning: Arguments other than a weight enum or `None` for 'weights' are deprecated since 0.13 and may be removed in the future. The current behavior is equivalent to passing `weights=VGG16_Weights.IMAGENET1K_V1`. You can also use `weights=VGG16_Weights.DEFAULT` to get the most up-to-date weights.\n",
            "  warnings.warn(msg)\n",
            "Downloading: \"https://download.pytorch.org/models/vgg16-397923af.pth\" to /root/.cache/torch/hub/checkpoints/vgg16-397923af.pth\n",
            "100%|██████████| 528M/528M [00:03<00:00, 144MB/s]\n",
            "/usr/local/lib/python3.11/dist-packages/torch/optim/lr_scheduler.py:62: UserWarning: The verbose parameter is deprecated. Please use get_last_lr() to access the learning rate.\n",
            "  warnings.warn(\n",
            "[Epoch 1/30] Training: 100%|██████████| 122/122 [02:12<00:00,  1.08s/it]\n"
          ]
        },
        {
          "output_type": "stream",
          "name": "stdout",
          "text": [
            "Epoch 1/30 -> Train Loss: 0.1806, Val Loss: 0.3988 | Train Acc: 0.9307, Val Acc: 0.7500\n"
          ]
        },
        {
          "output_type": "stream",
          "name": "stderr",
          "text": [
            "[Epoch 2/30] Training: 100%|██████████| 122/122 [02:11<00:00,  1.08s/it]\n"
          ]
        },
        {
          "output_type": "stream",
          "name": "stdout",
          "text": [
            "Epoch 2/30 -> Train Loss: 0.0754, Val Loss: 0.1503 | Train Acc: 0.9730, Val Acc: 0.9375\n"
          ]
        },
        {
          "output_type": "stream",
          "name": "stderr",
          "text": [
            "[Epoch 3/30] Training: 100%|██████████| 122/122 [02:08<00:00,  1.05s/it]\n"
          ]
        },
        {
          "output_type": "stream",
          "name": "stdout",
          "text": [
            "Epoch 3/30 -> Train Loss: 0.0614, Val Loss: 0.0718 | Train Acc: 0.9778, Val Acc: 1.0000\n"
          ]
        },
        {
          "output_type": "stream",
          "name": "stderr",
          "text": [
            "[Epoch 4/30] Training: 100%|██████████| 122/122 [02:07<00:00,  1.05s/it]\n"
          ]
        },
        {
          "output_type": "stream",
          "name": "stdout",
          "text": [
            "Epoch 4/30 -> Train Loss: 0.0590, Val Loss: 0.1546 | Train Acc: 0.9778, Val Acc: 0.9375\n"
          ]
        },
        {
          "output_type": "stream",
          "name": "stderr",
          "text": [
            "[Epoch 5/30] Training: 100%|██████████| 122/122 [02:07<00:00,  1.04s/it]\n"
          ]
        },
        {
          "output_type": "stream",
          "name": "stdout",
          "text": [
            "Epoch 5/30 -> Train Loss: 0.0507, Val Loss: 0.1379 | Train Acc: 0.9815, Val Acc: 0.9375\n"
          ]
        },
        {
          "output_type": "stream",
          "name": "stderr",
          "text": [
            "[Epoch 6/30] Training: 100%|██████████| 122/122 [02:10<00:00,  1.07s/it]\n"
          ]
        },
        {
          "output_type": "stream",
          "name": "stdout",
          "text": [
            "Epoch 6/30 -> Train Loss: 0.0531, Val Loss: 0.0845 | Train Acc: 0.9808, Val Acc: 1.0000\n"
          ]
        },
        {
          "output_type": "stream",
          "name": "stderr",
          "text": [
            "[Epoch 7/30] Training: 100%|██████████| 122/122 [02:08<00:00,  1.05s/it]\n"
          ]
        },
        {
          "output_type": "stream",
          "name": "stdout",
          "text": [
            "Epoch 7/30 -> Train Loss: 0.0473, Val Loss: 0.0366 | Train Acc: 0.9818, Val Acc: 1.0000\n"
          ]
        },
        {
          "output_type": "stream",
          "name": "stderr",
          "text": [
            "[Epoch 8/30] Training: 100%|██████████| 122/122 [02:07<00:00,  1.05s/it]\n"
          ]
        },
        {
          "output_type": "stream",
          "name": "stdout",
          "text": [
            "Epoch 8/30 -> Train Loss: 0.0503, Val Loss: 0.1358 | Train Acc: 0.9800, Val Acc: 0.9375\n"
          ]
        },
        {
          "output_type": "stream",
          "name": "stderr",
          "text": [
            "[Epoch 9/30] Training: 100%|██████████| 122/122 [02:08<00:00,  1.05s/it]\n"
          ]
        },
        {
          "output_type": "stream",
          "name": "stdout",
          "text": [
            "Epoch 9/30 -> Train Loss: 0.0445, Val Loss: 0.0871 | Train Acc: 0.9834, Val Acc: 1.0000\n"
          ]
        },
        {
          "output_type": "stream",
          "name": "stderr",
          "text": [
            "[Epoch 10/30] Training: 100%|██████████| 122/122 [02:08<00:00,  1.05s/it]\n"
          ]
        },
        {
          "output_type": "stream",
          "name": "stdout",
          "text": [
            "Epoch 10/30 -> Train Loss: 0.0380, Val Loss: 0.0221 | Train Acc: 0.9853, Val Acc: 1.0000\n"
          ]
        },
        {
          "output_type": "stream",
          "name": "stderr",
          "text": [
            "[Epoch 11/30] Training: 100%|██████████| 122/122 [02:07<00:00,  1.05s/it]\n"
          ]
        },
        {
          "output_type": "stream",
          "name": "stdout",
          "text": [
            "Epoch 11/30 -> Train Loss: 0.0414, Val Loss: 0.0662 | Train Acc: 0.9849, Val Acc: 1.0000\n"
          ]
        },
        {
          "output_type": "stream",
          "name": "stderr",
          "text": [
            "[Epoch 12/30] Training: 100%|██████████| 122/122 [02:08<00:00,  1.05s/it]\n"
          ]
        },
        {
          "output_type": "stream",
          "name": "stdout",
          "text": [
            "Epoch 12/30 -> Train Loss: 0.0367, Val Loss: 0.0635 | Train Acc: 0.9876, Val Acc: 1.0000\n"
          ]
        },
        {
          "output_type": "stream",
          "name": "stderr",
          "text": [
            "[Epoch 13/30] Training: 100%|██████████| 122/122 [02:07<00:00,  1.05s/it]\n"
          ]
        },
        {
          "output_type": "stream",
          "name": "stdout",
          "text": [
            "Epoch 13/30 -> Train Loss: 0.0354, Val Loss: 0.0709 | Train Acc: 0.9867, Val Acc: 1.0000\n"
          ]
        },
        {
          "output_type": "stream",
          "name": "stderr",
          "text": [
            "[Epoch 14/30] Training: 100%|██████████| 122/122 [02:07<00:00,  1.05s/it]\n"
          ]
        },
        {
          "output_type": "stream",
          "name": "stdout",
          "text": [
            "Epoch 14/30 -> Train Loss: 0.0330, Val Loss: 0.1942 | Train Acc: 0.9885, Val Acc: 0.8750\n"
          ]
        },
        {
          "output_type": "stream",
          "name": "stderr",
          "text": [
            "[Epoch 15/30] Training: 100%|██████████| 122/122 [02:08<00:00,  1.05s/it]\n"
          ]
        },
        {
          "output_type": "stream",
          "name": "stdout",
          "text": [
            "Epoch 15/30 -> Train Loss: 0.0287, Val Loss: 0.1011 | Train Acc: 0.9902, Val Acc: 1.0000\n"
          ]
        },
        {
          "output_type": "stream",
          "name": "stderr",
          "text": [
            "[Epoch 16/30] Training: 100%|██████████| 122/122 [02:07<00:00,  1.05s/it]\n"
          ]
        },
        {
          "output_type": "stream",
          "name": "stdout",
          "text": [
            "Epoch 16/30 -> Train Loss: 0.0266, Val Loss: 0.1342 | Train Acc: 0.9903, Val Acc: 0.9375\n"
          ]
        },
        {
          "output_type": "stream",
          "name": "stderr",
          "text": [
            "[Epoch 17/30] Training: 100%|██████████| 122/122 [02:07<00:00,  1.04s/it]\n"
          ]
        },
        {
          "output_type": "stream",
          "name": "stdout",
          "text": [
            "Epoch 17/30 -> Train Loss: 0.0232, Val Loss: 0.0692 | Train Acc: 0.9920, Val Acc: 0.9375\n"
          ]
        },
        {
          "output_type": "stream",
          "name": "stderr",
          "text": [
            "[Epoch 18/30] Training: 100%|██████████| 122/122 [02:07<00:00,  1.04s/it]\n"
          ]
        },
        {
          "output_type": "stream",
          "name": "stdout",
          "text": [
            "Epoch 18/30 -> Train Loss: 0.0272, Val Loss: 0.0101 | Train Acc: 0.9901, Val Acc: 1.0000\n"
          ]
        },
        {
          "output_type": "stream",
          "name": "stderr",
          "text": [
            "[Epoch 19/30] Training: 100%|██████████| 122/122 [02:08<00:00,  1.05s/it]\n"
          ]
        },
        {
          "output_type": "stream",
          "name": "stdout",
          "text": [
            "Epoch 19/30 -> Train Loss: 0.0313, Val Loss: 0.1829 | Train Acc: 0.9881, Val Acc: 0.8750\n"
          ]
        },
        {
          "output_type": "stream",
          "name": "stderr",
          "text": [
            "[Epoch 20/30] Training: 100%|██████████| 122/122 [02:08<00:00,  1.05s/it]\n"
          ]
        },
        {
          "output_type": "stream",
          "name": "stdout",
          "text": [
            "Epoch 20/30 -> Train Loss: 0.0231, Val Loss: 0.1679 | Train Acc: 0.9911, Val Acc: 0.9375\n"
          ]
        },
        {
          "output_type": "stream",
          "name": "stderr",
          "text": [
            "[Epoch 21/30] Training: 100%|██████████| 122/122 [02:08<00:00,  1.06s/it]\n"
          ]
        },
        {
          "output_type": "stream",
          "name": "stdout",
          "text": [
            "Epoch 21/30 -> Train Loss: 0.0253, Val Loss: 0.0676 | Train Acc: 0.9911, Val Acc: 1.0000\n"
          ]
        },
        {
          "output_type": "stream",
          "name": "stderr",
          "text": [
            "[Epoch 22/30] Training: 100%|██████████| 122/122 [02:08<00:00,  1.05s/it]\n"
          ]
        },
        {
          "output_type": "stream",
          "name": "stdout",
          "text": [
            "Epoch 22/30 -> Train Loss: 0.0179, Val Loss: 0.1783 | Train Acc: 0.9933, Val Acc: 0.8750\n"
          ]
        },
        {
          "output_type": "stream",
          "name": "stderr",
          "text": [
            "[Epoch 23/30] Training: 100%|██████████| 122/122 [02:07<00:00,  1.05s/it]\n"
          ]
        },
        {
          "output_type": "stream",
          "name": "stdout",
          "text": [
            "Epoch 23/30 -> Train Loss: 0.0178, Val Loss: 0.2282 | Train Acc: 0.9938, Val Acc: 0.8750\n"
          ]
        },
        {
          "output_type": "stream",
          "name": "stderr",
          "text": [
            "[Epoch 24/30] Training: 100%|██████████| 122/122 [02:08<00:00,  1.05s/it]\n"
          ]
        },
        {
          "output_type": "stream",
          "name": "stdout",
          "text": [
            "Epoch 24/30 -> Train Loss: 0.0142, Val Loss: 0.1578 | Train Acc: 0.9948, Val Acc: 0.9375\n"
          ]
        },
        {
          "output_type": "stream",
          "name": "stderr",
          "text": [
            "[Epoch 25/30] Training: 100%|██████████| 122/122 [02:08<00:00,  1.05s/it]\n"
          ]
        },
        {
          "output_type": "stream",
          "name": "stdout",
          "text": [
            "Epoch 25/30 -> Train Loss: 0.0144, Val Loss: 0.0766 | Train Acc: 0.9945, Val Acc: 0.9375\n"
          ]
        },
        {
          "output_type": "stream",
          "name": "stderr",
          "text": [
            "[Epoch 26/30] Training: 100%|██████████| 122/122 [02:08<00:00,  1.05s/it]\n"
          ]
        },
        {
          "output_type": "stream",
          "name": "stdout",
          "text": [
            "Epoch 26/30 -> Train Loss: 0.0112, Val Loss: 0.3023 | Train Acc: 0.9956, Val Acc: 0.8750\n"
          ]
        },
        {
          "output_type": "stream",
          "name": "stderr",
          "text": [
            "[Epoch 27/30] Training: 100%|██████████| 122/122 [02:08<00:00,  1.06s/it]\n"
          ]
        },
        {
          "output_type": "stream",
          "name": "stdout",
          "text": [
            "Epoch 27/30 -> Train Loss: 0.0095, Val Loss: 0.3855 | Train Acc: 0.9969, Val Acc: 0.8750\n"
          ]
        },
        {
          "output_type": "stream",
          "name": "stderr",
          "text": [
            "[Epoch 28/30] Training: 100%|██████████| 122/122 [02:08<00:00,  1.05s/it]\n"
          ]
        },
        {
          "output_type": "stream",
          "name": "stdout",
          "text": [
            "Epoch 28/30 -> Train Loss: 0.0108, Val Loss: 0.1435 | Train Acc: 0.9959, Val Acc: 0.9375\n"
          ]
        },
        {
          "output_type": "stream",
          "name": "stderr",
          "text": [
            "[Epoch 29/30] Training: 100%|██████████| 122/122 [02:07<00:00,  1.05s/it]\n"
          ]
        },
        {
          "output_type": "stream",
          "name": "stdout",
          "text": [
            "Epoch 29/30 -> Train Loss: 0.0097, Val Loss: 0.1442 | Train Acc: 0.9965, Val Acc: 0.9375\n"
          ]
        },
        {
          "output_type": "stream",
          "name": "stderr",
          "text": [
            "[Epoch 30/30] Training: 100%|██████████| 122/122 [02:14<00:00,  1.11s/it]\n"
          ]
        },
        {
          "output_type": "stream",
          "name": "stdout",
          "text": [
            "Epoch 30/30 -> Train Loss: 0.0082, Val Loss: 0.1975 | Train Acc: 0.9973, Val Acc: 0.9375\n"
          ]
        }
      ],
      "source": [
        "# Model, Loss, Optimizer, Scheduler\n",
        "model = VGG16Enhanced(num_classes).to(device)\n",
        "criterion = nn.CrossEntropyLoss()\n",
        "optimizer = optim.Adam(model.parameters(), lr=lr)\n",
        "scheduler = optim.lr_scheduler.ReduceLROnPlateau(optimizer, mode='min', factor=0.5, patience=3, verbose=True, min_lr=1e-6)\n",
        "\n",
        "# Training and Validation Loop\n",
        "train_acc_hist, val_acc_hist = [], []\n",
        "train_loss_hist, val_loss_hist = [], []\n",
        "best_val_loss = float('inf')\n",
        "\n",
        "for epoch in range(num_epochs):\n",
        "    model.train()\n",
        "    running_loss, correct, total = 0.0, 0, 0\n",
        "\n",
        "    for inputs, labels in tqdm(train_loader, desc=f\"[Epoch {epoch+1}/{num_epochs}] Training\"):\n",
        "        inputs, labels = inputs.to(device), labels.to(device)\n",
        "        optimizer.zero_grad()\n",
        "        outputs = model(inputs)\n",
        "        loss = criterion(outputs, labels)\n",
        "        loss.backward()\n",
        "        optimizer.step()\n",
        "\n",
        "        running_loss += loss.item()\n",
        "        _, preds = torch.max(outputs, 1)\n",
        "        correct += (preds == labels).sum().item()\n",
        "        total += labels.size(0)\n",
        "\n",
        "    train_loss = running_loss / len(train_loader)\n",
        "    train_acc = correct / total\n",
        "    train_loss_hist.append(train_loss)\n",
        "    train_acc_hist.append(train_acc)\n",
        "\n",
        "    # Validation\n",
        "    model.eval()\n",
        "    val_loss, correct, total = 0.0, 0, 0\n",
        "    with torch.no_grad():\n",
        "        for inputs, labels in val_loader:\n",
        "            inputs, labels = inputs.to(device), labels.to(device)\n",
        "            outputs = model(inputs)\n",
        "            loss = criterion(outputs, labels)\n",
        "            val_loss += loss.item()\n",
        "            _, preds = torch.max(outputs, 1)\n",
        "            correct += (preds == labels).sum().item()\n",
        "            total += labels.size(0)\n",
        "\n",
        "    val_loss = val_loss / len(val_loader)\n",
        "    val_acc = correct / total\n",
        "    val_loss_hist.append(val_loss)\n",
        "    val_acc_hist.append(val_acc)\n",
        "\n",
        "    scheduler.step(val_loss)\n",
        "\n",
        "    if val_loss < best_val_loss:\n",
        "        best_val_loss = val_loss\n",
        "        torch.save(model.state_dict(), \"best_model.pth\")\n",
        "\n",
        "    print(f\"Epoch {epoch+1}/{num_epochs} -> Train Loss: {train_loss:.4f}, Val Loss: {val_loss:.4f} | Train Acc: {train_acc:.4f}, Val Acc: {val_acc:.4f}\")\n",
        "\n",
        "# Load best model\n",
        "model.load_state_dict(torch.load(\"best_model.pth\"))\n",
        "\n",
        "# Test Evaluation\n",
        "model.eval()\n",
        "y_true, y_pred = [], []\n",
        "\n",
        "with torch.no_grad():\n",
        "    for inputs, labels in test_loader:\n",
        "        inputs = inputs.to(device)\n",
        "        outputs = model(inputs)\n",
        "        _, preds = torch.max(outputs, 1)\n",
        "        y_pred.extend(preds.cpu().numpy())\n",
        "        y_true.extend(labels.numpy())\n"
      ]
    },
    {
      "cell_type": "markdown",
      "id": "dd64b14b",
      "metadata": {
        "id": "dd64b14b"
      },
      "source": [
        "### Evaluation"
      ]
    },
    {
      "cell_type": "code",
      "execution_count": 9,
      "id": "98f05ee9",
      "metadata": {
        "colab": {
          "base_uri": "https://localhost:8080/"
        },
        "id": "98f05ee9",
        "outputId": "402118ef-3d84-48c7-b07d-c3b131061c02"
      },
      "outputs": [
        {
          "output_type": "stream",
          "name": "stdout",
          "text": [
            "\n",
            "--- Classification Report ---\n",
            "              precision    recall  f1-score   support\n",
            "\n",
            "      NORMAL       0.94      0.69      0.80       234\n",
            "   PNEUMONIA       0.84      0.97      0.90       390\n",
            "\n",
            "    accuracy                           0.87       624\n",
            "   macro avg       0.89      0.83      0.85       624\n",
            "weighted avg       0.88      0.87      0.86       624\n",
            "\n",
            "Test Accuracy:  0.8686\n",
            "Precision:      0.8913\n",
            "Recall:         0.8333\n",
            "F1 Score:       0.8503\n"
          ]
        }
      ],
      "source": [
        "# Metrics\n",
        "acc = accuracy_score(y_true, y_pred)\n",
        "prec = precision_score(y_true, y_pred, average='macro')\n",
        "rec = recall_score(y_true, y_pred, average='macro')\n",
        "f1 = f1_score(y_true, y_pred, average='macro')\n",
        "\n",
        "print(\"\\n--- Classification Report ---\")\n",
        "print(classification_report(y_true, y_pred, target_names=real_train_ds.classes))\n",
        "print(f\"Test Accuracy:  {acc:.4f}\")\n",
        "print(f\"Precision:      {prec:.4f}\")\n",
        "print(f\"Recall:         {rec:.4f}\")\n",
        "print(f\"F1 Score:       {f1:.4f}\")"
      ]
    },
    {
      "cell_type": "code",
      "execution_count": 10,
      "id": "848d1544",
      "metadata": {
        "colab": {
          "base_uri": "https://localhost:8080/",
          "height": 738
        },
        "id": "848d1544",
        "outputId": "79b3c0be-9795-4e5f-8384-d1ebe556b2fe"
      },
      "outputs": [
        {
          "output_type": "display_data",
          "data": {
            "text/plain": [
              "<Figure size 600x500 with 2 Axes>"
            ],
            "image/png": "[encoded data removed]"
          },
          "metadata": {}
        },
        {
          "output_type": "display_data",
          "data": {
            "text/plain": [
              "<Figure size 1000x400 with 2 Axes>"
            ],
            "image/png": "[encoded data removed]"
          },
          "metadata": {}
        }
      ],
      "source": [
        "# Confusion Matrix\n",
        "cm = confusion_matrix(y_true, y_pred)\n",
        "plt.figure(figsize=(6, 5))\n",
        "plt.imshow(cm, cmap='Blues')\n",
        "plt.title(\"Confusion Matrix\")\n",
        "plt.xlabel(\"Predicted\")\n",
        "plt.ylabel(\"True\")\n",
        "plt.xticks(np.arange(num_classes), real_train_ds.classes)\n",
        "plt.yticks(np.arange(num_classes), real_train_ds.classes)\n",
        "plt.colorbar()\n",
        "plt.show()\n",
        "\n",
        "# Accuracy & Loss Plot\n",
        "plt.figure(figsize=(10, 4))\n",
        "plt.subplot(1, 2, 1)\n",
        "plt.plot(train_acc_hist, label='Train Accuracy')\n",
        "plt.plot(val_acc_hist, label='Validation Accuracy')\n",
        "plt.title(\"Accuracy Over Epochs\")\n",
        "plt.xlabel(\"Epoch\")\n",
        "plt.ylabel(\"Accuracy\")\n",
        "plt.legend()\n",
        "plt.grid(True)\n",
        "\n",
        "plt.subplot(1, 2, 2)\n",
        "plt.plot(train_loss_hist, label='Train Loss')\n",
        "plt.plot(val_loss_hist, label='Validation Loss')\n",
        "plt.title(\"Loss Over Epochs\")\n",
        "plt.xlabel(\"Epoch\")\n",
        "plt.ylabel(\"Loss\")\n",
        "plt.legend()\n",
        "plt.grid(True)\n",
        "\n",
        "plt.tight_layout()\n",
        "plt.show()"
      ]
    },
    {
      "cell_type": "markdown",
      "id": "086d2fda",
      "metadata": {
        "id": "086d2fda"
      },
      "source": [
        "### Prediction"
      ]
    },
    {
      "cell_type": "code",
      "execution_count": 11,
      "id": "d54f1e49",
      "metadata": {
        "colab": {
          "base_uri": "https://localhost:8080/",
          "height": 142
        },
        "id": "d54f1e49",
        "outputId": "fe1a4846-3cd1-4fa8-8096-36539f147a8d"
      },
      "outputs": [
        {
          "output_type": "stream",
          "name": "stderr",
          "text": [
            "/usr/local/lib/python3.11/dist-packages/torchvision/models/_utils.py:208: UserWarning: The parameter 'pretrained' is deprecated since 0.13 and may be removed in the future, please use 'weights' instead.\n",
            "  warnings.warn(\n",
            "/usr/local/lib/python3.11/dist-packages/torchvision/models/_utils.py:223: UserWarning: Arguments other than a weight enum or `None` for 'weights' are deprecated since 0.13 and may be removed in the future. The current behavior is equivalent to passing `weights=VGG16_Weights.IMAGENET1K_V1`. You can also use `weights=VGG16_Weights.DEFAULT` to get the most up-to-date weights.\n",
            "  warnings.warn(msg)\n"
          ]
        },
        {
          "output_type": "stream",
          "name": "stdout",
          "text": [
            "Predicted class: Normal\n"
          ]
        },
        {
          "output_type": "execute_result",
          "data": {
            "text/plain": [
              "'Normal'"
            ],
            "application/vnd.google.colaboratory.intrinsic+json": {
              "type": "string"
            }
          },
          "metadata": {},
          "execution_count": 11
        }
      ],
      "source": [
        "import torch\n",
        "from torchvision import transforms, models\n",
        "from PIL import Image\n",
        "import torch.nn as nn\n",
        "import os\n",
        "\n",
        "# --- Device ---\n",
        "device = torch.device(\"cuda\" if torch.cuda.is_available() else \"cpu\")\n",
        "\n",
        "# --- Same transforms as training ---\n",
        "transform = transforms.Compose([\n",
        "    transforms.Resize((224, 224)),\n",
        "    transforms.ToTensor(),\n",
        "    transforms.Normalize(mean=[0.485, 0.456, 0.406],\n",
        "                         std=[0.229, 0.224, 0.225])\n",
        "])\n",
        "\n",
        "# --- Class mapping (update this as per your actual class names) ---\n",
        "class_names = ['Normal', 'Pneumonia']  # example\n",
        "\n",
        "# --- Define the model architecture ---\n",
        "class VGG16Enhanced(nn.Module):\n",
        "    def __init__(self, num_classes):\n",
        "        super(VGG16Enhanced, self).__init__()\n",
        "        base_model = models.vgg16(pretrained=True)\n",
        "        for param in base_model.features.parameters():\n",
        "            param.requires_grad = False\n",
        "\n",
        "        self.features = base_model.features\n",
        "        self.gap = nn.AdaptiveAvgPool2d((1, 1))  # Global Average Pooling\n",
        "\n",
        "        self.classifier = nn.Sequential(\n",
        "            nn.Flatten(),\n",
        "            nn.Linear(512, 256),\n",
        "            nn.ReLU(),\n",
        "            nn.Dropout(0.3),\n",
        "            nn.Linear(256, 128),\n",
        "            nn.ReLU(),\n",
        "            nn.Dropout(0.3),\n",
        "            nn.Linear(128, 256),\n",
        "            nn.ReLU(),\n",
        "            nn.Dropout(0.3),\n",
        "            nn.Linear(256, 64),\n",
        "            nn.ReLU(),\n",
        "            nn.Dropout(0.25),\n",
        "            nn.Linear(64, num_classes)\n",
        "        )\n",
        "\n",
        "    def forward(self, x):\n",
        "        x = self.features(x)\n",
        "        x = self.gap(x)\n",
        "        x = self.classifier(x)\n",
        "        return x\n",
        "\n",
        "# --- Load model ---\n",
        "model = VGG16Enhanced(num_classes=2)  # Update if you have more classes\n",
        "model.load_state_dict(torch.load(\"best_model.pth\", map_location=device))\n",
        "model = model.to(device)\n",
        "model.eval()\n",
        "\n",
        "# --- Prediction Function ---\n",
        "def predict_image(image_path):\n",
        "    image = Image.open(image_path).convert(\"RGB\")\n",
        "    input_tensor = transform(image).unsqueeze(0).to(device)\n",
        "\n",
        "    with torch.no_grad():\n",
        "        output = model(input_tensor)\n",
        "        _, predicted = torch.max(output, 1)\n",
        "        class_index = predicted.item()\n",
        "        class_name = class_names[class_index]\n",
        "\n",
        "    print(f\"Predicted class: {class_name}\")\n",
        "    return class_name\n",
        "\n",
        "# test_image_path = \"dataset/train/PNEUMONIA/person1_bacteria_2.jpeg\"\n",
        "test_image_path = \"/content/chest-x-ray-deep-learning-project/dataset/train/NORMAL/IM-0115-0001.jpeg\"\n",
        "\n",
        "predict_image(test_image_path)"
      ]
    },
    {
      "cell_type": "code",
      "source": [],
      "metadata": {
        "id": "L5nM1nekIRWs"
      },
      "id": "L5nM1nekIRWs",
      "execution_count": null,
      "outputs": []
    }
  ],
  "metadata": {
    "kernelspec": {
      "display_name": "Python 3",
      "name": "python3"
    },
    "language_info": {
      "codemirror_mode": {
        "name": "ipython",
        "version": 3
      },
      "file_extension": ".py",
      "mimetype": "text/x-python",
      "name": "python",
      "nbconvert_exporter": "python",
      "pygments_lexer": "ipython3",
      "version": "3.11.6"
    },
    "colab": {
      "provenance": [],
      "gpuType": "T4"
    },
    "accelerator": "GPU"
  },
  "nbformat": 4,
  "nbformat_minor": 5
}