{
 "cells": [
  {
   "cell_type": "markdown",
   "id": "f5741fb3",
   "metadata": {},
   "source": [
    "### Libraries Import"
   ]
  },
  {
   "cell_type": "code",
   "execution_count": 1,
   "id": "fef8793e",
   "metadata": {},
   "outputs": [],
   "source": [
    "import os\n",
    "from PIL import Image\n",
    "from tqdm import tqdm\n",
    "\n",
    "import torch\n",
    "import torch.nn as nn\n",
    "import torch.optim as optim\n",
    "from torchvision import datasets, transforms, models\n",
    "from torch.utils.data import DataLoader, Dataset, ConcatDataset\n",
    "import numpy as np\n",
    "import matplotlib.pyplot as plt\n",
    "from collections import Counter\n",
    "from sklearn.metrics import classification_report, confusion_matrix, accuracy_score, precision_score, recall_score, f1_score\n",
    "\n",
    "# Device config\n",
    "device = torch.device(\"cuda\" if torch.cuda.is_available() else \"cpu\")"
   ]
  },
  {
   "cell_type": "markdown",
   "id": "0c0ea918",
   "metadata": {},
   "source": [
    "### Augmentation using GAN (handle data imbalance)"
   ]
  },
  {
   "cell_type": "code",
   "execution_count": 2,
   "id": "ce821a75",
   "metadata": {},
   "outputs": [
    {
     "name": "stdout",
     "output_type": "stream",
     "text": [
      "Original counts: {'NORMAL': 1341, 'PNEUMONIA': 3875}\n",
      "[NORMAL] needs 2534 synthetic images → training GAN…\n",
      "Epoch 1/50 | D_loss: 1.1660 | G_loss: 1.4158\n",
      "Epoch 2/50 | D_loss: 1.3359 | G_loss: 0.9206\n",
      "Epoch 3/50 | D_loss: 1.3514 | G_loss: 0.8769\n",
      "Epoch 4/50 | D_loss: 1.3565 | G_loss: 0.8641\n",
      "Epoch 5/50 | D_loss: 1.3677 | G_loss: 0.8450\n",
      "Epoch 6/50 | D_loss: 1.3676 | G_loss: 0.8497\n",
      "Epoch 7/50 | D_loss: 1.3542 | G_loss: 0.8556\n",
      "Epoch 8/50 | D_loss: 1.3526 | G_loss: 0.8712\n",
      "Epoch 9/50 | D_loss: 1.3596 | G_loss: 0.8779\n",
      "Epoch 10/50 | D_loss: 1.3424 | G_loss: 0.8960\n",
      "Epoch 11/50 | D_loss: 1.3435 | G_loss: 0.8773\n",
      "Epoch 12/50 | D_loss: 1.3519 | G_loss: 0.8814\n",
      "Epoch 13/50 | D_loss: 1.3880 | G_loss: 0.8431\n",
      "Epoch 14/50 | D_loss: 1.3596 | G_loss: 0.8434\n",
      "Epoch 15/50 | D_loss: 1.3611 | G_loss: 0.8387\n",
      "Epoch 16/50 | D_loss: 1.3588 | G_loss: 0.8474\n",
      "Epoch 17/50 | D_loss: 1.3612 | G_loss: 0.8477\n",
      "Epoch 18/50 | D_loss: 1.3538 | G_loss: 0.8383\n",
      "Epoch 19/50 | D_loss: 1.3565 | G_loss: 0.8542\n",
      "Epoch 20/50 | D_loss: 1.3518 | G_loss: 0.8638\n",
      "Epoch 21/50 | D_loss: 1.3384 | G_loss: 0.8973\n",
      "Epoch 22/50 | D_loss: 1.3469 | G_loss: 0.8734\n",
      "Epoch 23/50 | D_loss: 1.3361 | G_loss: 0.8881\n",
      "Epoch 24/50 | D_loss: 1.3306 | G_loss: 0.9129\n",
      "Epoch 25/50 | D_loss: 1.3306 | G_loss: 0.8885\n",
      "Epoch 26/50 | D_loss: 1.3297 | G_loss: 0.9041\n",
      "Epoch 27/50 | D_loss: 1.3359 | G_loss: 0.9049\n",
      "Epoch 28/50 | D_loss: 1.3910 | G_loss: 0.9551\n",
      "Epoch 29/50 | D_loss: 1.3502 | G_loss: 0.8977\n",
      "Epoch 30/50 | D_loss: 1.3324 | G_loss: 0.8848\n",
      "Epoch 31/50 | D_loss: 1.3391 | G_loss: 0.9218\n",
      "Epoch 32/50 | D_loss: 1.3357 | G_loss: 0.9131\n",
      "Epoch 33/50 | D_loss: 1.3406 | G_loss: 0.9988\n",
      "Epoch 34/50 | D_loss: 1.3820 | G_loss: 1.0608\n",
      "Epoch 35/50 | D_loss: 1.3358 | G_loss: 0.9445\n",
      "Epoch 36/50 | D_loss: 1.3394 | G_loss: 0.9101\n",
      "Epoch 37/50 | D_loss: 1.3132 | G_loss: 0.9192\n",
      "Epoch 38/50 | D_loss: 1.3254 | G_loss: 0.9109\n",
      "Epoch 39/50 | D_loss: 1.3213 | G_loss: 0.9449\n",
      "Epoch 40/50 | D_loss: 1.3238 | G_loss: 0.9364\n",
      "Epoch 41/50 | D_loss: 1.3144 | G_loss: 0.9562\n",
      "Epoch 42/50 | D_loss: 1.3227 | G_loss: 0.9399\n",
      "Epoch 43/50 | D_loss: 1.3113 | G_loss: 0.9212\n",
      "Epoch 44/50 | D_loss: 1.3120 | G_loss: 0.9413\n",
      "Epoch 45/50 | D_loss: 1.3373 | G_loss: 0.9367\n",
      "Epoch 46/50 | D_loss: 1.3087 | G_loss: 0.9310\n",
      "Epoch 47/50 | D_loss: 1.3123 | G_loss: 0.9406\n",
      "Epoch 48/50 | D_loss: 1.3195 | G_loss: 0.9276\n",
      "Epoch 49/50 | D_loss: 1.3123 | G_loss: 0.9671\n",
      "Epoch 50/50 | D_loss: 1.3076 | G_loss: 0.9646\n"
     ]
    },
    {
     "name": "stderr",
     "output_type": "stream",
     "text": [
      "Generating [NORMAL]: 100%|██████████| 2534/2534 [01:15<00:00, 33.70it/s]"
     ]
    },
    {
     "name": "stdout",
     "output_type": "stream",
     "text": [
      "[PNEUMONIA] has 3875, no synthetic needed.\n",
      "Synthetic counts: {'NORMAL': 2534, 'PNEUMONIA': 0}\n",
      "Total counts after augmentation: {'NORMAL': 3875, 'PNEUMONIA': 3875}\n"
     ]
    },
    {
     "name": "stderr",
     "output_type": "stream",
     "text": [
      "\n"
     ]
    }
   ],
   "source": [
    "class SingleClassDataset(Dataset):\n",
    "    def __init__(self, folder, transform=None):\n",
    "        self.paths = [\n",
    "            os.path.join(folder, f)\n",
    "            for f in os.listdir(folder)\n",
    "            if f.lower().endswith(('.png','jpg','jpeg'))\n",
    "        ]\n",
    "        self.transform = transform\n",
    "\n",
    "    def __len__(self):\n",
    "        return len(self.paths)\n",
    "\n",
    "    def __getitem__(self, idx):\n",
    "        img = Image.open(self.paths[idx]).convert('RGB')\n",
    "        if self.transform:\n",
    "            img = self.transform(img)\n",
    "        return img\n",
    "\n",
    "class Generator(nn.Module):\n",
    "    def __init__(self, latent_dim=100):\n",
    "        super().__init__()\n",
    "        self.init_size = 14\n",
    "        self.l1 = nn.Sequential(\n",
    "            nn.Linear(latent_dim, 256 * self.init_size * self.init_size),\n",
    "            nn.LeakyReLU(0.2, inplace=True)\n",
    "        )\n",
    "        self.conv_blocks = nn.Sequential(\n",
    "            nn.Upsample(scale_factor=2),\n",
    "            nn.Conv2d(256, 256, 3, padding=1), nn.BatchNorm2d(256), nn.LeakyReLU(0.2, True),\n",
    "            nn.Upsample(scale_factor=2),\n",
    "            nn.Conv2d(256, 128, 3, padding=1), nn.BatchNorm2d(128), nn.LeakyReLU(0.2, True),\n",
    "            nn.Upsample(scale_factor=2),\n",
    "            nn.Conv2d(128,  64, 3, padding=1), nn.BatchNorm2d(64),  nn.LeakyReLU(0.2, True),\n",
    "            nn.Upsample(scale_factor=2),\n",
    "            nn.Conv2d(64,   32, 3, padding=1), nn.BatchNorm2d(32),  nn.LeakyReLU(0.2, True),\n",
    "            nn.Conv2d(32,    3, 3, padding=1), nn.Sigmoid()  # [0,1] output\n",
    "        )\n",
    "\n",
    "    def forward(self, z):\n",
    "        out = self.l1(z).view(z.size(0), 256, self.init_size, self.init_size)\n",
    "        return self.conv_blocks(out)\n",
    "\n",
    "class Discriminator(nn.Module):\n",
    "    def __init__(self, img_size=224):\n",
    "        super().__init__()\n",
    "        def cb(in_c, out_c):\n",
    "            return [\n",
    "                nn.Conv2d(in_c, out_c, 3, stride=2, padding=1),\n",
    "                nn.LeakyReLU(0.2, True),\n",
    "                nn.Dropout(0.4)\n",
    "            ]\n",
    "        self.model = nn.Sequential(\n",
    "            *cb(3,  64),   # 224→112\n",
    "            *cb(64, 128),  # 112→56\n",
    "            *cb(128,256),  # 56→28\n",
    "            nn.Flatten(),\n",
    "            nn.Linear(256*(img_size//8)*(img_size//8), 1),\n",
    "            nn.Sigmoid()\n",
    "        )\n",
    "\n",
    "    def forward(self, img):\n",
    "        return self.model(img)\n",
    "\n",
    "def train_dcgan(gen, disc, loader, latent_dim, device,\n",
    "                epochs=200, lr=2e-4, beta1=0.5):\n",
    "    criterion = nn.BCELoss()\n",
    "    opt_d = optim.Adam(disc.parameters(), lr=lr, betas=(beta1,0.999))\n",
    "    opt_g = optim.Adam(gen.parameters(),  lr=lr, betas=(beta1,0.999))\n",
    "    gen.to(device); disc.to(device)\n",
    "\n",
    "    for epoch in range(1, epochs+1):\n",
    "        d_loss_acc, g_loss_acc = 0, 0\n",
    "        for real in loader:  # num_workers=0 to avoid Windows crashes\n",
    "            bs = real.size(0)\n",
    "            real = real.to(device)\n",
    "            # smoothed real labels=0.9, fake=0\n",
    "            real_lbl = torch.full((bs,1), 0.9, device=device)\n",
    "            fake_lbl = torch.zeros((bs,1), device=device)\n",
    "\n",
    "            # Discriminator step\n",
    "            disc.zero_grad()\n",
    "            out_real = disc(real)\n",
    "            d_real = criterion(out_real, real_lbl)\n",
    "            z = torch.randn(bs, latent_dim, device=device)\n",
    "            fake = gen(z)\n",
    "            out_fake = disc(fake.detach())\n",
    "            d_fake = criterion(out_fake, fake_lbl)\n",
    "            (d_real + d_fake).backward()\n",
    "            opt_d.step()\n",
    "\n",
    "            # Generator step\n",
    "            gen.zero_grad()\n",
    "            valid_lbl = torch.ones((bs,1), device=device)\n",
    "            out = disc(fake)\n",
    "            g_loss = criterion(out, valid_lbl)\n",
    "            g_loss.backward()\n",
    "            opt_g.step()\n",
    "\n",
    "            d_loss_acc += (d_real + d_fake).item()\n",
    "            g_loss_acc += g_loss.item()\n",
    "\n",
    "        print(f\"Epoch {epoch}/{epochs} | D_loss: {d_loss_acc/len(loader):.4f} | G_loss: {g_loss_acc/len(loader):.4f}\")\n",
    "\n",
    "    return gen\n",
    "\n",
    "\n",
    "data_root      = \"dataset/train\"\n",
    "synthetic_root = \"synthetic\"\n",
    "os.makedirs(synthetic_root, exist_ok=True)\n",
    "device = torch.device(\"cuda\" if torch.cuda.is_available() else \"cpu\")\n",
    "\n",
    "classes = [d for d in os.listdir(data_root) if os.path.isdir(os.path.join(data_root,d))]\n",
    "orig_counts = {}\n",
    "for cls in classes:\n",
    "    folder = os.path.join(data_root, cls)\n",
    "    imgs = [f for f in os.listdir(folder) if f.lower().endswith(('.png','jpg','jpeg'))]\n",
    "    orig_counts[cls] = len(imgs)\n",
    "max_count = max(orig_counts.values())\n",
    "print(\"Original counts:\", orig_counts)\n",
    "\n",
    "gan_transform = transforms.Compose([\n",
    "    transforms.Resize((224,224)),\n",
    "    transforms.ToTensor()\n",
    "])\n",
    "latent_dim = 100\n",
    "epochs     = 50\n",
    "batch_size = 64\n",
    "\n",
    "synthetic_counts = {}\n",
    "for cls, cnt in orig_counts.items():\n",
    "    need = max_count - cnt\n",
    "    synthetic_counts[cls] = 0\n",
    "    if need <= 0:\n",
    "        print(f\"[{cls}] has {cnt}, no synthetic needed.\")\n",
    "        continue\n",
    "\n",
    "    print(f\"[{cls}] needs {need} synthetic images → training GAN…\")\n",
    "    # prepare data loader\n",
    "    ds     = SingleClassDataset(os.path.join(data_root,cls), transform=gan_transform)\n",
    "    loader = DataLoader(ds, batch_size=batch_size, shuffle=True, num_workers=0)\n",
    "\n",
    "    # build & train\n",
    "    gen  = Generator(latent_dim).to(device)\n",
    "    disc = Discriminator().to(device)\n",
    "    gen  = train_dcgan(gen, disc, loader, latent_dim, device,\n",
    "                        epochs=epochs)\n",
    "\n",
    "    # generate & save\n",
    "    out_dir = os.path.join(synthetic_root, cls)\n",
    "    os.makedirs(out_dir, exist_ok=True)\n",
    "    for i in tqdm(range(need), desc=f\"Generating [{cls}]\"):\n",
    "        z = torch.randn(1, latent_dim, device=device)\n",
    "        with torch.no_grad():\n",
    "            fake = gen(z).cpu().squeeze(0)\n",
    "        pil = transforms.ToPILImage()(fake)\n",
    "        pil.save(os.path.join(out_dir, f\"synthetic_{i}.png\"))\n",
    "        synthetic_counts[cls] += 1\n",
    "\n",
    "# 4c) Report final counts\n",
    "total_counts = {cls: orig_counts[cls] + synthetic_counts.get(cls,0) for cls in classes}\n",
    "print(\"Synthetic counts:\", synthetic_counts)\n",
    "print(\"Total counts after augmentation:\", total_counts)"
   ]
  },
  {
   "cell_type": "code",
   "execution_count": 2,
   "id": "9a6e10dd",
   "metadata": {},
   "outputs": [],
   "source": [
    "# Hyperparameters\n",
    "batch_size = 64\n",
    "num_epochs = 30\n",
    "lr = 1e-3\n",
    "num_classes = 2\n",
    "\n",
    "# Data Transforms\n",
    "basic_transform = transforms.Compose([\n",
    "    transforms.Resize((224, 224)),\n",
    "    transforms.ToTensor(),\n",
    "    transforms.Normalize(mean=[0.485, 0.456, 0.406],\n",
    "                         std=[0.229, 0.224, 0.225])\n",
    "])\n",
    "\n",
    "# Dataset loading\n",
    "real_train_ds = datasets.ImageFolder(\"dataset/train\", transform=basic_transform)\n",
    "synthetic_ds = datasets.ImageFolder(\"synthetic\", transform=basic_transform)\n",
    "synthetic_ds.classes = real_train_ds.classes\n",
    "synthetic_ds.class_to_idx = real_train_ds.class_to_idx\n",
    "\n",
    "train_ds = ConcatDataset([real_train_ds, synthetic_ds])\n",
    "val_ds = datasets.ImageFolder(\"dataset/val\", transform=basic_transform)\n",
    "test_ds = datasets.ImageFolder(\"dataset/test\", transform=basic_transform)\n",
    "\n",
    "train_loader = DataLoader(train_ds, batch_size=batch_size, shuffle=True)\n",
    "val_loader = DataLoader(val_ds, batch_size=batch_size, shuffle=False)\n",
    "test_loader = DataLoader(test_ds, batch_size=batch_size, shuffle=False)"
   ]
  },
  {
   "cell_type": "code",
   "execution_count": 3,
   "id": "47ab0fdc",
   "metadata": {},
   "outputs": [
    {
     "data": {
      "image/png": "[encoded data removed]",
      "text/plain": [
       "<Figure size 1400x600 with 2 Axes>"
      ]
     },
     "metadata": {},
     "output_type": "display_data"
    }
   ],
   "source": [
    "# Count real training data\n",
    "real_counts = Counter([real_train_ds.targets[i] for i in range(len(real_train_ds))])\n",
    "real_labels = [real_train_ds.classes[i] for i in real_counts.keys()]\n",
    "real_sizes = list(real_counts.values())\n",
    "\n",
    "# Count combined (real + synthetic) data\n",
    "combined_targets = [real_train_ds.targets[i] for i in range(len(real_train_ds))] + \\\n",
    "                   [synthetic_ds.targets[i] for i in range(len(synthetic_ds))]\n",
    "combined_counts = Counter(combined_targets)\n",
    "combined_labels = [real_train_ds.classes[i] for i in combined_counts.keys()]\n",
    "combined_sizes = list(combined_counts.values())\n",
    "\n",
    "# --- Plot ---\n",
    "fig, axes = plt.subplots(1, 2, figsize=(14, 6))\n",
    "\n",
    "# Real data pie\n",
    "axes[0].pie(real_sizes, labels=real_labels, autopct='%1.1f%%', startangle=140, colors=['#66b3ff','#ff9999'])\n",
    "axes[0].set_title('Training Data Distribution (Real Only)', fontsize=14)\n",
    "\n",
    "# Combined data pie\n",
    "axes[1].pie(combined_sizes, labels=combined_labels, autopct='%1.1f%%', startangle=140, colors=['#99ff99','#ffcc99'])\n",
    "axes[1].set_title('Training Data Distribution (Real + Synthetic)', fontsize=14)\n",
    "\n",
    "plt.tight_layout()\n",
    "plt.show()"
   ]
  },
  {
   "cell_type": "markdown",
   "id": "53c35cb7",
   "metadata": {},
   "source": [
    "### VGG and Neural Network"
   ]
  },
  {
   "cell_type": "code",
   "execution_count": null,
   "id": "dafb212a",
   "metadata": {},
   "outputs": [],
   "source": [
    "# Custom Model\n",
    "class VGG16Enhanced(nn.Module):\n",
    "    def __init__(self, num_classes):\n",
    "        super(VGG16Enhanced, self).__init__()\n",
    "        base_model = models.vgg16(pretrained=True)\n",
    "        for param in base_model.features.parameters():\n",
    "            param.requires_grad = False\n",
    "        \n",
    "        self.features = base_model.features\n",
    "        self.gap = nn.AdaptiveAvgPool2d((1, 1))  # Global Average Pooling\n",
    "        \n",
    "        self.classifier = nn.Sequential(\n",
    "            nn.Flatten(),\n",
    "            nn.Linear(512, 256),\n",
    "            nn.ReLU(),\n",
    "            nn.Dropout(0.3),\n",
    "            nn.Linear(256, 128),\n",
    "            nn.ReLU(),\n",
    "            nn.Dropout(0.3),\n",
    "            nn.Linear(128, 256),\n",
    "            nn.ReLU(),\n",
    "            nn.Dropout(0.3),\n",
    "            nn.Linear(256, 64),\n",
    "            nn.ReLU(),\n",
    "            nn.Dropout(0.25),\n",
    "            nn.Linear(64, num_classes)\n",
    "        )\n",
    "\n",
    "    def forward(self, x):\n",
    "        x = self.features(x)\n",
    "        x = self.gap(x)\n",
    "        x = self.classifier(x)\n",
    "        return x"
   ]
  },
  {
   "cell_type": "code",
   "execution_count": null,
   "id": "09c91b62",
   "metadata": {},
   "outputs": [
    {
     "name": "stderr",
     "output_type": "stream",
     "text": [
      "c:\\Users\\dgoya\\AppData\\Local\\Programs\\Python\\Python311\\Lib\\site-packages\\torchvision\\models\\_utils.py:208: UserWarning: The parameter 'pretrained' is deprecated since 0.13 and may be removed in the future, please use 'weights' instead.\n",
      "  warnings.warn(\n",
      "c:\\Users\\dgoya\\AppData\\Local\\Programs\\Python\\Python311\\Lib\\site-packages\\torchvision\\models\\_utils.py:223: UserWarning: Arguments other than a weight enum or `None` for 'weights' are deprecated since 0.13 and may be removed in the future. The current behavior is equivalent to passing `weights=VGG16_Weights.IMAGENET1K_V1`. You can also use `weights=VGG16_Weights.DEFAULT` to get the most up-to-date weights.\n",
      "  warnings.warn(msg)\n",
      "c:\\Users\\dgoya\\AppData\\Local\\Programs\\Python\\Python311\\Lib\\site-packages\\torch\\optim\\lr_scheduler.py:62: UserWarning: The verbose parameter is deprecated. Please use get_last_lr() to access the learning rate.\n",
      "  warnings.warn(\n",
      "[Epoch 1/30] Training: 100%|██████████| 122/122 [01:26<00:00,  1.41it/s]\n"
     ]
    },
    {
     "name": "stdout",
     "output_type": "stream",
     "text": [
      "Epoch 1/30 -> Train Loss: 0.2042, Val Loss: 0.2453 | Train Acc: 0.9185, Val Acc: 0.8750\n"
     ]
    },
    {
     "name": "stderr",
     "output_type": "stream",
     "text": [
      "[Epoch 2/30] Training: 100%|██████████| 122/122 [01:28<00:00,  1.38it/s]\n"
     ]
    },
    {
     "name": "stdout",
     "output_type": "stream",
     "text": [
      "Epoch 2/30 -> Train Loss: 0.0758, Val Loss: 0.2852 | Train Acc: 0.9705, Val Acc: 0.8750\n"
     ]
    },
    {
     "name": "stderr",
     "output_type": "stream",
     "text": [
      "[Epoch 3/30] Training: 100%|██████████| 122/122 [01:29<00:00,  1.36it/s]\n"
     ]
    },
    {
     "name": "stdout",
     "output_type": "stream",
     "text": [
      "Epoch 3/30 -> Train Loss: 0.0636, Val Loss: 0.7711 | Train Acc: 0.9763, Val Acc: 0.6250\n"
     ]
    },
    {
     "name": "stderr",
     "output_type": "stream",
     "text": [
      "[Epoch 4/30] Training: 100%|██████████| 122/122 [01:31<00:00,  1.34it/s]\n"
     ]
    },
    {
     "name": "stdout",
     "output_type": "stream",
     "text": [
      "Epoch 4/30 -> Train Loss: 0.0599, Val Loss: 0.4319 | Train Acc: 0.9783, Val Acc: 0.6875\n"
     ]
    },
    {
     "name": "stderr",
     "output_type": "stream",
     "text": [
      "[Epoch 5/30] Training: 100%|██████████| 122/122 [01:31<00:00,  1.33it/s]\n"
     ]
    },
    {
     "name": "stdout",
     "output_type": "stream",
     "text": [
      "Epoch 5/30 -> Train Loss: 0.0556, Val Loss: 0.0456 | Train Acc: 0.9786, Val Acc: 1.0000\n"
     ]
    },
    {
     "name": "stderr",
     "output_type": "stream",
     "text": [
      "[Epoch 6/30] Training: 100%|██████████| 122/122 [01:32<00:00,  1.31it/s]\n"
     ]
    },
    {
     "name": "stdout",
     "output_type": "stream",
     "text": [
      "Epoch 6/30 -> Train Loss: 0.0468, Val Loss: 0.0917 | Train Acc: 0.9813, Val Acc: 1.0000\n"
     ]
    },
    {
     "name": "stderr",
     "output_type": "stream",
     "text": [
      "[Epoch 7/30] Training: 100%|██████████| 122/122 [01:32<00:00,  1.32it/s]\n"
     ]
    },
    {
     "name": "stdout",
     "output_type": "stream",
     "text": [
      "Epoch 7/30 -> Train Loss: 0.0513, Val Loss: 0.0360 | Train Acc: 0.9809, Val Acc: 1.0000\n"
     ]
    },
    {
     "name": "stderr",
     "output_type": "stream",
     "text": [
      "[Epoch 8/30] Training: 100%|██████████| 122/122 [01:32<00:00,  1.32it/s]\n"
     ]
    },
    {
     "name": "stdout",
     "output_type": "stream",
     "text": [
      "Epoch 8/30 -> Train Loss: 0.0459, Val Loss: 0.1232 | Train Acc: 0.9837, Val Acc: 0.9375\n"
     ]
    },
    {
     "name": "stderr",
     "output_type": "stream",
     "text": [
      "[Epoch 9/30] Training: 100%|██████████| 122/122 [01:32<00:00,  1.31it/s]\n"
     ]
    },
    {
     "name": "stdout",
     "output_type": "stream",
     "text": [
      "Epoch 9/30 -> Train Loss: 0.0543, Val Loss: 0.0437 | Train Acc: 0.9783, Val Acc: 1.0000\n"
     ]
    },
    {
     "name": "stderr",
     "output_type": "stream",
     "text": [
      "[Epoch 10/30] Training: 100%|██████████| 122/122 [02:18<00:00,  1.14s/it]\n"
     ]
    },
    {
     "name": "stdout",
     "output_type": "stream",
     "text": [
      "Epoch 10/30 -> Train Loss: 0.0417, Val Loss: 0.0151 | Train Acc: 0.9850, Val Acc: 1.0000\n"
     ]
    },
    {
     "name": "stderr",
     "output_type": "stream",
     "text": [
      "[Epoch 11/30] Training: 100%|██████████| 122/122 [01:46<00:00,  1.14it/s]\n"
     ]
    },
    {
     "name": "stdout",
     "output_type": "stream",
     "text": [
      "Epoch 11/30 -> Train Loss: 0.0370, Val Loss: 0.1188 | Train Acc: 0.9857, Val Acc: 0.9375\n"
     ]
    },
    {
     "name": "stderr",
     "output_type": "stream",
     "text": [
      "[Epoch 12/30] Training: 100%|██████████| 122/122 [01:50<00:00,  1.10it/s]\n"
     ]
    },
    {
     "name": "stdout",
     "output_type": "stream",
     "text": [
      "Epoch 12/30 -> Train Loss: 0.0383, Val Loss: 0.1883 | Train Acc: 0.9857, Val Acc: 0.8750\n"
     ]
    },
    {
     "name": "stderr",
     "output_type": "stream",
     "text": [
      "[Epoch 13/30] Training: 100%|██████████| 122/122 [01:33<00:00,  1.30it/s]\n"
     ]
    },
    {
     "name": "stdout",
     "output_type": "stream",
     "text": [
      "Epoch 13/30 -> Train Loss: 0.0340, Val Loss: 0.0479 | Train Acc: 0.9876, Val Acc: 1.0000\n"
     ]
    },
    {
     "name": "stderr",
     "output_type": "stream",
     "text": [
      "[Epoch 14/30] Training: 100%|██████████| 122/122 [01:34<00:00,  1.29it/s]\n"
     ]
    },
    {
     "name": "stdout",
     "output_type": "stream",
     "text": [
      "Epoch 14/30 -> Train Loss: 0.0334, Val Loss: 0.0950 | Train Acc: 0.9889, Val Acc: 0.9375\n"
     ]
    },
    {
     "name": "stderr",
     "output_type": "stream",
     "text": [
      "[Epoch 15/30] Training: 100%|██████████| 122/122 [01:34<00:00,  1.29it/s]\n"
     ]
    },
    {
     "name": "stdout",
     "output_type": "stream",
     "text": [
      "Epoch 15/30 -> Train Loss: 0.0280, Val Loss: 0.1233 | Train Acc: 0.9897, Val Acc: 0.9375\n"
     ]
    },
    {
     "name": "stderr",
     "output_type": "stream",
     "text": [
      "[Epoch 16/30] Training: 100%|██████████| 122/122 [01:32<00:00,  1.31it/s]\n"
     ]
    },
    {
     "name": "stdout",
     "output_type": "stream",
     "text": [
      "Epoch 16/30 -> Train Loss: 0.0243, Val Loss: 0.1622 | Train Acc: 0.9912, Val Acc: 0.9375\n"
     ]
    },
    {
     "name": "stderr",
     "output_type": "stream",
     "text": [
      "[Epoch 17/30] Training: 100%|██████████| 122/122 [01:34<00:00,  1.29it/s]\n"
     ]
    },
    {
     "name": "stdout",
     "output_type": "stream",
     "text": [
      "Epoch 17/30 -> Train Loss: 0.0274, Val Loss: 0.0515 | Train Acc: 0.9901, Val Acc: 1.0000\n"
     ]
    },
    {
     "name": "stderr",
     "output_type": "stream",
     "text": [
      "[Epoch 18/30] Training: 100%|██████████| 122/122 [01:33<00:00,  1.30it/s]\n"
     ]
    },
    {
     "name": "stdout",
     "output_type": "stream",
     "text": [
      "Epoch 18/30 -> Train Loss: 0.0206, Val Loss: 0.1213 | Train Acc: 0.9910, Val Acc: 0.9375\n"
     ]
    },
    {
     "name": "stderr",
     "output_type": "stream",
     "text": [
      "[Epoch 19/30] Training: 100%|██████████| 122/122 [01:34<00:00,  1.30it/s]\n"
     ]
    },
    {
     "name": "stdout",
     "output_type": "stream",
     "text": [
      "Epoch 19/30 -> Train Loss: 0.0193, Val Loss: 0.0916 | Train Acc: 0.9934, Val Acc: 0.9375\n"
     ]
    },
    {
     "name": "stderr",
     "output_type": "stream",
     "text": [
      "[Epoch 20/30] Training: 100%|██████████| 122/122 [01:35<00:00,  1.28it/s]\n"
     ]
    },
    {
     "name": "stdout",
     "output_type": "stream",
     "text": [
      "Epoch 20/30 -> Train Loss: 0.0167, Val Loss: 0.0948 | Train Acc: 0.9951, Val Acc: 0.9375\n"
     ]
    },
    {
     "name": "stderr",
     "output_type": "stream",
     "text": [
      "[Epoch 21/30] Training: 100%|██████████| 122/122 [01:34<00:00,  1.29it/s]\n"
     ]
    },
    {
     "name": "stdout",
     "output_type": "stream",
     "text": [
      "Epoch 21/30 -> Train Loss: 0.0170, Val Loss: 0.1207 | Train Acc: 0.9933, Val Acc: 0.9375\n"
     ]
    },
    {
     "name": "stderr",
     "output_type": "stream",
     "text": [
      "[Epoch 22/30] Training: 100%|██████████| 122/122 [01:35<00:00,  1.27it/s]\n"
     ]
    },
    {
     "name": "stdout",
     "output_type": "stream",
     "text": [
      "Epoch 22/30 -> Train Loss: 0.0164, Val Loss: 0.1064 | Train Acc: 0.9939, Val Acc: 0.9375\n"
     ]
    },
    {
     "name": "stderr",
     "output_type": "stream",
     "text": [
      "[Epoch 23/30] Training: 100%|██████████| 122/122 [01:37<00:00,  1.25it/s]\n"
     ]
    },
    {
     "name": "stdout",
     "output_type": "stream",
     "text": [
      "Epoch 23/30 -> Train Loss: 0.0160, Val Loss: 0.0749 | Train Acc: 0.9946, Val Acc: 0.9375\n"
     ]
    },
    {
     "name": "stderr",
     "output_type": "stream",
     "text": [
      "[Epoch 24/30] Training: 100%|██████████| 122/122 [01:36<00:00,  1.26it/s]\n"
     ]
    },
    {
     "name": "stdout",
     "output_type": "stream",
     "text": [
      "Epoch 24/30 -> Train Loss: 0.0120, Val Loss: 0.1178 | Train Acc: 0.9955, Val Acc: 0.9375\n"
     ]
    },
    {
     "name": "stderr",
     "output_type": "stream",
     "text": [
      "[Epoch 25/30] Training: 100%|██████████| 122/122 [01:37<00:00,  1.25it/s]\n"
     ]
    },
    {
     "name": "stdout",
     "output_type": "stream",
     "text": [
      "Epoch 25/30 -> Train Loss: 0.0118, Val Loss: 0.1438 | Train Acc: 0.9950, Val Acc: 0.9375\n"
     ]
    },
    {
     "name": "stderr",
     "output_type": "stream",
     "text": [
      "[Epoch 26/30] Training: 100%|██████████| 122/122 [01:37<00:00,  1.25it/s]\n"
     ]
    },
    {
     "name": "stdout",
     "output_type": "stream",
     "text": [
      "Epoch 26/30 -> Train Loss: 0.0129, Val Loss: 0.1242 | Train Acc: 0.9960, Val Acc: 0.9375\n"
     ]
    },
    {
     "name": "stderr",
     "output_type": "stream",
     "text": [
      "[Epoch 27/30] Training: 100%|██████████| 122/122 [01:38<00:00,  1.24it/s]\n"
     ]
    },
    {
     "name": "stdout",
     "output_type": "stream",
     "text": [
      "Epoch 27/30 -> Train Loss: 0.0121, Val Loss: 0.1290 | Train Acc: 0.9950, Val Acc: 0.9375\n"
     ]
    },
    {
     "name": "stderr",
     "output_type": "stream",
     "text": [
      "[Epoch 28/30] Training: 100%|██████████| 122/122 [01:43<00:00,  1.18it/s]\n"
     ]
    },
    {
     "name": "stdout",
     "output_type": "stream",
     "text": [
      "Epoch 28/30 -> Train Loss: 0.0104, Val Loss: 0.1412 | Train Acc: 0.9966, Val Acc: 0.9375\n"
     ]
    },
    {
     "name": "stderr",
     "output_type": "stream",
     "text": [
      "[Epoch 29/30] Training: 100%|██████████| 122/122 [01:46<00:00,  1.15it/s]\n"
     ]
    },
    {
     "name": "stdout",
     "output_type": "stream",
     "text": [
      "Epoch 29/30 -> Train Loss: 0.0091, Val Loss: 0.1279 | Train Acc: 0.9966, Val Acc: 0.9375\n"
     ]
    },
    {
     "name": "stderr",
     "output_type": "stream",
     "text": [
      "[Epoch 30/30] Training: 100%|██████████| 122/122 [01:40<00:00,  1.21it/s]\n"
     ]
    },
    {
     "name": "stdout",
     "output_type": "stream",
     "text": [
      "Epoch 30/30 -> Train Loss: 0.0095, Val Loss: 0.1558 | Train Acc: 0.9961, Val Acc: 0.9375\n"
     ]
    }
   ],
   "source": [
    "# Model, Loss, Optimizer, Scheduler\n",
    "model = VGG16Enhanced(num_classes).to(device)\n",
    "criterion = nn.CrossEntropyLoss()\n",
    "optimizer = optim.Adam(model.parameters(), lr=lr)\n",
    "scheduler = optim.lr_scheduler.ReduceLROnPlateau(optimizer, mode='min', factor=0.5, patience=3, verbose=True, min_lr=1e-6)\n",
    "\n",
    "# Training and Validation Loop\n",
    "train_acc_hist, val_acc_hist = [], []\n",
    "train_loss_hist, val_loss_hist = [], []\n",
    "best_val_loss = float('inf')\n",
    "\n",
    "for epoch in range(num_epochs):\n",
    "    model.train()\n",
    "    running_loss, correct, total = 0.0, 0, 0\n",
    "\n",
    "    for inputs, labels in tqdm(train_loader, desc=f\"[Epoch {epoch+1}/{num_epochs}] Training\"):\n",
    "        inputs, labels = inputs.to(device), labels.to(device)\n",
    "        optimizer.zero_grad()\n",
    "        outputs = model(inputs)\n",
    "        loss = criterion(outputs, labels)\n",
    "        loss.backward()\n",
    "        optimizer.step()\n",
    "\n",
    "        running_loss += loss.item()\n",
    "        _, preds = torch.max(outputs, 1)\n",
    "        correct += (preds == labels).sum().item()\n",
    "        total += labels.size(0)\n",
    "\n",
    "    train_loss = running_loss / len(train_loader)\n",
    "    train_acc = correct / total\n",
    "    train_loss_hist.append(train_loss)\n",
    "    train_acc_hist.append(train_acc)\n",
    "\n",
    "    # Validation\n",
    "    model.eval()\n",
    "    val_loss, correct, total = 0.0, 0, 0\n",
    "    with torch.no_grad():\n",
    "        for inputs, labels in val_loader:\n",
    "            inputs, labels = inputs.to(device), labels.to(device)\n",
    "            outputs = model(inputs)\n",
    "            loss = criterion(outputs, labels)\n",
    "            val_loss += loss.item()\n",
    "            _, preds = torch.max(outputs, 1)\n",
    "            correct += (preds == labels).sum().item()\n",
    "            total += labels.size(0)\n",
    "\n",
    "    val_loss = val_loss / len(val_loader)\n",
    "    val_acc = correct / total\n",
    "    val_loss_hist.append(val_loss)\n",
    "    val_acc_hist.append(val_acc)\n",
    "\n",
    "    scheduler.step(val_loss)\n",
    "\n",
    "    if val_loss < best_val_loss:\n",
    "        best_val_loss = val_loss\n",
    "        torch.save(model.state_dict(), \"best_model.pth\")\n",
    "\n",
    "    print(f\"Epoch {epoch+1}/{num_epochs} -> Train Loss: {train_loss:.4f}, Val Loss: {val_loss:.4f} | Train Acc: {train_acc:.4f}, Val Acc: {val_acc:.4f}\")\n",
    "\n",
    "# Load best model\n",
    "model.load_state_dict(torch.load(\"best_model.pth\"))\n",
    "\n",
    "# Test Evaluation\n",
    "model.eval()\n",
    "y_true, y_pred = [], []\n",
    "\n",
    "with torch.no_grad():\n",
    "    for inputs, labels in test_loader:\n",
    "        inputs = inputs.to(device)\n",
    "        outputs = model(inputs)\n",
    "        _, preds = torch.max(outputs, 1)\n",
    "        y_pred.extend(preds.cpu().numpy())\n",
    "        y_true.extend(labels.numpy())\n"
   ]
  },
  {
   "cell_type": "markdown",
   "id": "dd64b14b",
   "metadata": {},
   "source": [
    "### Evaluation"
   ]
  },
  {
   "cell_type": "code",
   "execution_count": 3,
   "id": "98f05ee9",
   "metadata": {},
   "outputs": [
    {
     "name": "stdout",
     "output_type": "stream",
     "text": [
      "\n",
      "--- Classification Report ---\n",
      "              precision    recall  f1-score   support\n",
      "\n",
      "      NORMAL       0.94      0.74      0.82       234\n",
      "   PNEUMONIA       0.86      0.97      0.91       390\n",
      "\n",
      "    accuracy                           0.88       624\n",
      "   macro avg       0.90      0.85      0.87       624\n",
      "weighted avg       0.89      0.88      0.88       624\n",
      "\n",
      "Test Accuracy:  0.8830\n",
      "Precision:      0.8997\n",
      "Recall:         0.8534\n",
      "F1 Score:       0.8685\n"
     ]
    }
   ],
   "source": [
    "# Metrics\n",
    "acc = accuracy_score(y_true, y_pred)\n",
    "prec = precision_score(y_true, y_pred, average='macro')\n",
    "rec = recall_score(y_true, y_pred, average='macro')\n",
    "f1 = f1_score(y_true, y_pred, average='macro')\n",
    "\n",
    "print(\"\\n--- Classification Report ---\")\n",
    "print(classification_report(y_true, y_pred, target_names=real_train_ds.classes))\n",
    "print(f\"Test Accuracy:  {acc:.4f}\")\n",
    "print(f\"Precision:      {prec:.4f}\")\n",
    "print(f\"Recall:         {rec:.4f}\")\n",
    "print(f\"F1 Score:       {f1:.4f}\")"
   ]
  },
  {
   "cell_type": "code",
   "execution_count": 4,
   "id": "848d1544",
   "metadata": {},
   "outputs": [
    {
     "data": {
      "image/png": "[encoded data removed]",
      "text/plain": [
       "<Figure size 600x500 with 2 Axes>"
      ]
     },
     "metadata": {},
     "output_type": "display_data"
    },
    {
     "data": {
      "image/png": "[encoded data removed]",
      "text/plain": [
       "<Figure size 1000x400 with 2 Axes>"
      ]
     },
     "metadata": {},
     "output_type": "display_data"
    }
   ],
   "source": [
    "# Confusion Matrix\n",
    "cm = confusion_matrix(y_true, y_pred)\n",
    "plt.figure(figsize=(6, 5))\n",
    "plt.imshow(cm, cmap='Blues')\n",
    "plt.title(\"Confusion Matrix\")\n",
    "plt.xlabel(\"Predicted\")\n",
    "plt.ylabel(\"True\")\n",
    "plt.xticks(np.arange(num_classes), real_train_ds.classes)\n",
    "plt.yticks(np.arange(num_classes), real_train_ds.classes)\n",
    "plt.colorbar()\n",
    "plt.show()\n",
    "\n",
    "# Accuracy & Loss Plot\n",
    "plt.figure(figsize=(10, 4))\n",
    "plt.subplot(1, 2, 1)\n",
    "plt.plot(train_acc_hist, label='Train Accuracy')\n",
    "plt.plot(val_acc_hist, label='Validation Accuracy')\n",
    "plt.title(\"Accuracy Over Epochs\")\n",
    "plt.xlabel(\"Epoch\")\n",
    "plt.ylabel(\"Accuracy\")\n",
    "plt.legend()\n",
    "plt.grid(True)\n",
    "\n",
    "plt.subplot(1, 2, 2)\n",
    "plt.plot(train_loss_hist, label='Train Loss')\n",
    "plt.plot(val_loss_hist, label='Validation Loss')\n",
    "plt.title(\"Loss Over Epochs\")\n",
    "plt.xlabel(\"Epoch\")\n",
    "plt.ylabel(\"Loss\")\n",
    "plt.legend()\n",
    "plt.grid(True)\n",
    "\n",
    "plt.tight_layout()\n",
    "plt.show()"
   ]
  },
  {
   "cell_type": "markdown",
   "id": "086d2fda",
   "metadata": {},
   "source": [
    "### Prediction"
   ]
  },
  {
   "cell_type": "code",
   "execution_count": 3,
   "id": "d54f1e49",
   "metadata": {},
   "outputs": [
    {
     "name": "stdout",
     "output_type": "stream",
     "text": [
      "Predicted class: Normal\n"
     ]
    },
    {
     "data": {
      "text/plain": [
       "'Normal'"
      ]
     },
     "execution_count": 3,
     "metadata": {},
     "output_type": "execute_result"
    }
   ],
   "source": [
    "import torch\n",
    "from torchvision import transforms, models\n",
    "from PIL import Image\n",
    "import torch.nn as nn\n",
    "import os\n",
    "\n",
    "# --- Device ---\n",
    "device = torch.device(\"cuda\" if torch.cuda.is_available() else \"cpu\")\n",
    "\n",
    "# --- Same transforms as training ---\n",
    "transform = transforms.Compose([\n",
    "    transforms.Resize((224, 224)),\n",
    "    transforms.ToTensor(),\n",
    "    transforms.Normalize(mean=[0.485, 0.456, 0.406],\n",
    "                         std=[0.229, 0.224, 0.225])\n",
    "])\n",
    "\n",
    "# --- Class mapping (update this as per your actual class names) ---\n",
    "class_names = ['Normal', 'Pneumonia']  # example\n",
    "\n",
    "# --- Define the model architecture ---\n",
    "class VGG16Enhanced(nn.Module):\n",
    "    def __init__(self, num_classes):\n",
    "        super(VGG16Enhanced, self).__init__()\n",
    "        base_model = models.vgg16(pretrained=True)\n",
    "        for param in base_model.features.parameters():\n",
    "            param.requires_grad = False\n",
    "        \n",
    "        self.features = base_model.features\n",
    "        self.gap = nn.AdaptiveAvgPool2d((1, 1))  # Global Average Pooling\n",
    "        \n",
    "        self.classifier = nn.Sequential(\n",
    "            nn.Flatten(),\n",
    "            nn.Linear(512, 256),\n",
    "            nn.ReLU(),\n",
    "            nn.Dropout(0.3),\n",
    "            nn.Linear(256, 128),\n",
    "            nn.ReLU(),\n",
    "            nn.Dropout(0.3),\n",
    "            nn.Linear(128, 256),\n",
    "            nn.ReLU(),\n",
    "            nn.Dropout(0.3),\n",
    "            nn.Linear(256, 64),\n",
    "            nn.ReLU(),\n",
    "            nn.Dropout(0.25),\n",
    "            nn.Linear(64, num_classes)\n",
    "        )\n",
    "\n",
    "    def forward(self, x):\n",
    "        x = self.features(x)\n",
    "        x = self.gap(x)\n",
    "        x = self.classifier(x)\n",
    "        return x\n",
    "\n",
    "# --- Load model ---\n",
    "model = VGG16Enhanced(num_classes=2)  # Update if you have more classes\n",
    "model.load_state_dict(torch.load(\"best_model.pth\", map_location=device))\n",
    "model = model.to(device)\n",
    "model.eval()\n",
    "\n",
    "# --- Prediction Function ---\n",
    "def predict_image(image_path):\n",
    "    image = Image.open(image_path).convert(\"RGB\")\n",
    "    input_tensor = transform(image).unsqueeze(0).to(device)\n",
    "\n",
    "    with torch.no_grad():\n",
    "        output = model(input_tensor)\n",
    "        _, predicted = torch.max(output, 1)\n",
    "        class_index = predicted.item()\n",
    "        class_name = class_names[class_index]\n",
    "    \n",
    "    print(f\"Predicted class: {class_name}\")\n",
    "    return class_name\n",
    "\n",
    "# test_image_path = \"dataset/train/PNEUMONIA/person1_bacteria_2.jpeg\"\n",
    "test_image_path = \"dataset/train/NORMAL/NORMAL2-IM-1385-0001.jpeg\"\n",
    "\n",
    "predict_image(test_image_path)"
   ]
  }
 ],
 "metadata": {
  "kernelspec": {
   "display_name": "Python 3",
   "language": "python",
   "name": "python3"
  },
  "language_info": {
   "codemirror_mode": {
    "name": "ipython",
    "version": 3
   },
   "file_extension": ".py",
   "mimetype": "text/x-python",
   "name": "python",
   "nbconvert_exporter": "python",
   "pygments_lexer": "ipython3",
   "version": "3.11.6"
  }
 },
 "nbformat": 4,
 "nbformat_minor": 5
}
